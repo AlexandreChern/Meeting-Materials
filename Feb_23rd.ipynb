{
 "cells": [
  {
   "attachments": {},
   "cell_type": "markdown",
   "metadata": {},
   "source": [
    "# Meeting Feb 23rd\n",
    "\n",
    "I went back to change the saveslip code so now it can save 81 stations from 0 to 40km with even spacing. The output file can now work with plot_slip.m file. I played around with different el_x and el_y values used in the tan maping. Here are some results.\n",
    "\n",
    "For the simulation, I do a simulation of 300 years.\n",
    "I set $N = 400, \\delta Np = 401$\n",
    "\n",
    "If we set el_x = el_y = 10e12, the graph would look like this.\n",
    "\n",
    "![BP1_no_tanh.jpg](raw_results/BP1_no_tanh.jpg)\n",
    "\n",
    "This image looks like only the upper half of the fault.\n",
    "\n",
    "If we set el_x = el_y = 1, the resolution is not enough.\n",
    "\n",
    "![el_x=1_el_y=1.jpg](raw_results/el_x=1_el_y=1.jpg)\n",
    "For el_x = el_y = 10, it is still not enough\n",
    "![el_x=10_el_y=10.jpg](raw_results/el_x=10_el_y=10.jpg)"
   ]
  },
  {
   "cell_type": "code",
   "execution_count": null,
   "metadata": {},
   "outputs": [],
   "source": []
  }
 ],
 "metadata": {
  "kernelspec": {
   "display_name": "Julia 1.5.0",
   "language": "julia",
   "name": "julia-1.5"
  },
  "language_info": {
   "file_extension": ".jl",
   "mimetype": "application/julia",
   "name": "julia",
   "version": "1.5.0"
  }
 },
 "nbformat": 4,
 "nbformat_minor": 4
}
