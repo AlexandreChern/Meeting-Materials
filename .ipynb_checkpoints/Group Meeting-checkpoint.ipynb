{
 "cells": [
  {
   "cell_type": "markdown",
   "metadata": {},
   "source": [
    "# Group Meeting September 24"
   ]
  },
  {
   "cell_type": "markdown",
   "metadata": {},
   "source": [
    "## SBP Finite Difference with GPU\n",
    "\n",
    "\n",
    "### SBP operators\n"
   ]
  },
  {
   "cell_type": "markdown",
   "metadata": {},
   "source": [
    "## SBP_GPU package\n",
    "\n",
    "### Status\n",
    "\n",
    "\n",
    "### Test file\n",
    "\n",
    "\n",
    "```jl\n",
    "Test Summary: | Pass  Total\n",
    "SBP_GPU.jl    |    7      7\n",
    "    Testing SBP_GPU tests passed \n",
    "\n",
    "(SBP_GPU) pkg> \n",
    "```"
   ]
  },
  {
   "cell_type": "code",
   "execution_count": null,
   "metadata": {},
   "outputs": [],
   "source": []
  }
 ],
 "metadata": {
  "kernelspec": {
   "display_name": "Julia 1.5.0",
   "language": "julia",
   "name": "julia-1.5"
  },
  "language_info": {
   "file_extension": ".jl",
   "mimetype": "application/julia",
   "name": "julia",
   "version": "1.5.0"
  }
 },
 "nbformat": 4,
 "nbformat_minor": 4
}
