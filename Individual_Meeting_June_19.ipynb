{
 "cells": [
  {
   "cell_type": "markdown",
   "metadata": {},
   "source": [
    "# Meeting June 19"
   ]
  },
  {
   "cell_type": "markdown",
   "metadata": {},
   "source": [
    "## Rewrite Several Linear Algebra Operators to get rid of conversion using sparse()"
   ]
  },
  {
   "cell_type": "code",
   "execution_count": 12,
   "metadata": {},
   "outputs": [
    {
     "data": {
      "text/plain": [
       "sparse_E (generic function with 1 method)"
      ]
     },
     "execution_count": 12,
     "metadata": {},
     "output_type": "execute_result"
    }
   ],
   "source": [
    "using SparseArrays\n",
    "using LinearAlgebra\n",
    "using BenchmarkTools\n",
    "using IterativeSolvers\n",
    "\n",
    "\n",
    "# Initializing Functions\n",
    "function e(i,n)\n",
    "    A = Matrix{Float64}(I,n,n)\n",
    "    return A[:,i]\n",
    "end\n",
    "\n",
    "function se(i,n)    # Sparse formulation of e(i,n)\n",
    "    A = spzeros(n)\n",
    "    A[i] = 1\n",
    "    return A\n",
    "end\n",
    "\n",
    "function eyes(n)\n",
    "    return Matrix{Float64}(I,n,n)\n",
    "end\n",
    "\n",
    "function speyes(n)    # Sparse formulation of eyes(n)\n",
    "    A = spzeros(n,n)\n",
    "    for i in 1:n\n",
    "        A[i,i] = 1\n",
    "    end\n",
    "    return A\n",
    "end\n",
    "\n",
    "function u(x,y)\n",
    "           return sin.(π*x .+ π*y)\n",
    "       end\n",
    "\n",
    "function Diag(A)\n",
    "    # Self defined function that is similar to Matlab Diag\n",
    "    return Diagonal(A[:])\n",
    "end\n",
    "\n",
    "function sparse_E(i,N)    ## This is because Diag was used to convert an e(i,n) to a diagonal matrix \n",
    "    A = spzeros(N,N)\n",
    "    A[i,i] = 1\n",
    "    return A\n",
    "end"
   ]
  },
  {
   "cell_type": "markdown",
   "metadata": {},
   "source": [
    "## Fix issues using @benchmark on impure function cg!()"
   ]
  },
  {
   "cell_type": "code",
   "execution_count": 3,
   "metadata": {},
   "outputs": [
    {
     "data": {
      "text/plain": [
       "test_cg!_null (generic function with 1 method)"
      ]
     },
     "execution_count": 3,
     "metadata": {},
     "output_type": "execute_result"
    }
   ],
   "source": [
    "function test_cg!(A_d,b_d)\n",
    "    init_guess = similar(b_d)\n",
    "    return cg!(init_guess,A_d,b_d)\n",
    "end\n",
    "\n",
    "function test_cg!_Pl(A_d,b_d)\n",
    "    init_guess = similar(b_d)\n",
    "    return cg!(init_guess,A_d,b_d;Pl=Identity())\n",
    "end\n",
    "\n",
    "\n",
    "function test_cg!_null(A_d,b_d)  # This function tests how long it takes to generate a random guess\n",
    "    init_guess = similar(b_d)\n",
    "end"
   ]
  },
  {
   "cell_type": "code",
   "execution_count": 24,
   "metadata": {},
   "outputs": [
    {
     "data": {
      "text/plain": [
       "3-element Array{Float64,1}:\n",
       " -0.756691453727197\n",
       "  0.347406086462271\n",
       " -1.2513647684173266"
      ]
     },
     "execution_count": 24,
     "metadata": {},
     "output_type": "execute_result"
    }
   ],
   "source": [
    "A = randn(3)\n",
    "B = randn(3)"
   ]
  },
  {
   "cell_type": "code",
   "execution_count": 25,
   "metadata": {},
   "outputs": [
    {
     "data": {
      "text/plain": [
       "3-element Array{Float64,1}:\n",
       " -1.298728251851834\n",
       " -0.6580543035344195\n",
       " -1.2674962528841325"
      ]
     },
     "execution_count": 25,
     "metadata": {},
     "output_type": "execute_result"
    }
   ],
   "source": [
    "C = randn(3)"
   ]
  },
  {
   "cell_type": "code",
   "execution_count": 26,
   "metadata": {},
   "outputs": [
    {
     "data": {
      "text/plain": [
       "BenchmarkTools.Trial: \n",
       "  memory estimate:  112 bytes\n",
       "  allocs estimate:  1\n",
       "  --------------\n",
       "  minimum time:     46.768 ns (0.00% GC)\n",
       "  median time:      47.778 ns (0.00% GC)\n",
       "  mean time:        52.460 ns (5.45% GC)\n",
       "  maximum time:     1.585 μs (91.83% GC)\n",
       "  --------------\n",
       "  samples:          10000\n",
       "  evals/sample:     990"
      ]
     },
     "execution_count": 26,
     "metadata": {},
     "output_type": "execute_result"
    }
   ],
   "source": [
    "@benchmark C = A + B"
   ]
  },
  {
   "cell_type": "code",
   "execution_count": 28,
   "metadata": {},
   "outputs": [
    {
     "data": {
      "text/plain": [
       "3-element Array{Float64,1}:\n",
       " -1.298728251851834\n",
       " -0.6580543035344195\n",
       " -1.2674962528841325"
      ]
     },
     "execution_count": 28,
     "metadata": {},
     "output_type": "execute_result"
    }
   ],
   "source": [
    "C  # C is not altered after using @benchmark macro"
   ]
  },
  {
   "cell_type": "code",
   "execution_count": 18,
   "metadata": {},
   "outputs": [
    {
     "data": {
      "text/plain": [
       "5-element Array{Float64,1}:\n",
       "  1.130360411264038\n",
       "  1.318734725343321\n",
       " -1.3103624237437237\n",
       "  0.12599129162501288\n",
       "  1.95685472782009"
      ]
     },
     "execution_count": 18,
     "metadata": {},
     "output_type": "execute_result"
    }
   ],
   "source": [
    "A = randn(5,5)\n",
    "A = A*A' + 2*Matrix(I,5,5)\n",
    "b = randn(5)"
   ]
  },
  {
   "cell_type": "code",
   "execution_count": 19,
   "metadata": {},
   "outputs": [
    {
     "data": {
      "text/plain": [
       "5-element Array{Float64,1}:\n",
       "  0.46922760035170513\n",
       " -0.776679122517493\n",
       "  0.07641386188389362\n",
       "  0.5919766450954875\n",
       "  1.1220360238526592"
      ]
     },
     "execution_count": 19,
     "metadata": {},
     "output_type": "execute_result"
    }
   ],
   "source": [
    "init_guess = randn(5)"
   ]
  },
  {
   "cell_type": "code",
   "execution_count": 20,
   "metadata": {},
   "outputs": [
    {
     "data": {
      "text/plain": [
       "BenchmarkTools.Trial: \n",
       "  memory estimate:  1.16 KiB\n",
       "  allocs estimate:  11\n",
       "  --------------\n",
       "  minimum time:     580.337 ns (0.00% GC)\n",
       "  median time:      604.500 ns (0.00% GC)\n",
       "  mean time:        661.492 ns (6.68% GC)\n",
       "  maximum time:     13.359 μs (94.43% GC)\n",
       "  --------------\n",
       "  samples:          10000\n",
       "  evals/sample:     178"
      ]
     },
     "execution_count": 20,
     "metadata": {},
     "output_type": "execute_result"
    }
   ],
   "source": [
    "@benchmark cg!(init_guess,A,b)"
   ]
  },
  {
   "cell_type": "code",
   "execution_count": 21,
   "metadata": {},
   "outputs": [
    {
     "data": {
      "text/plain": [
       "5-element Array{Float64,1}:\n",
       "  0.4207964262565283\n",
       "  0.1789937575546813\n",
       " -0.14484120345582877\n",
       "  0.18020389552789762\n",
       "  0.35527054888349335"
      ]
     },
     "execution_count": 21,
     "metadata": {},
     "output_type": "execute_result"
    }
   ],
   "source": [
    "init_guess # But init_guess is modified during the use of @benchmark, the change is preserved after @benchmark"
   ]
  },
  {
   "cell_type": "markdown",
   "metadata": {},
   "source": [
    "## More valid results after modifications"
   ]
  },
  {
   "cell_type": "markdown",
   "metadata": {},
   "source": [
    "|     | <th colspan=5>Memory (KiB)      |           |               |               |                           |                |                                    |\n",
    "|-----|-------------------|-----------|---------------|---------------|---------------------------|----------------|------------------------------------|\n",
    "| N   | CPU_Factorization | Solve_CPU | Iterative_GPU | Iterative_CPU | ratio (Factorization/GPU) | ratio(CPU/GPU) | ratio(Factorization/Iterative_CPU) |\n",
    "| 2^3 | 154.57            | 5.27      | 5.56          | 3.66          | 27.80                     | 0.66           | 42.23                              |\n",
    "| 2^4 | 434.44            | 18.45     | 5.58          | 10.53         | 77.86                     | 1.89           | 41.26                              |\n",
    "| 2^5 | 1,530.00          | 68.45     | 5.89          | 35.53         | 259.76                    | 6.03           | 43.06                              |\n",
    "| 2^6 | 5,650.00          | 264.36    | 5.89          | 133.34        | 959.25                    | 22.64          | 42.37                              |\n",
    "| 2^7 | 21,610.00         | 1,020.00  | 5.89          | 521.34        | 3,668.93                  | 88.51          | 41.45                              |\n",
    "| 2^8 | 98,750.00         | 4,030.00  | 5.89          | 2,020.00      | 16,765.70                 | 342.95         | 48.89                              |\n",
    "| 2^9 | 457,640.00        | 16,060.00 | 5.89          | 8,030.00      | 77,697.79                 | 1,363.33       | 56.99                              |"
   ]
  },
  {
   "cell_type": "markdown",
   "metadata": {},
   "source": [
    "|     |<th colspan=5> Time (ms)         |           |               |               |                          |                 |                         |\n",
    "|-----|-------------------|-----------|---------------|---------------|--------------------------|-----------------|-------------------------|\n",
    "| N   | CPU_Factorization | Solve_CPU | Iterative_GPU | Iterative_CPU | ratio (Direct_Solve/GPU) | ratio(CPU/GPU)  | ratio(Direct_Solve/CPU) |\n",
    "| 2^3 | 0.15              | 0.01      | 5.70          | 0.01          | 0.001035087719           | 0.002150877193  | 0.4812398042            |\n",
    "| 2^4 | 0.53              | 0.02      | 12.29         | 0.08          | 0.001920729226           | 0.006323756816  | 0.3037323037            |\n",
    "| 2^5 | 2.88              | 0.11      | 22.74         | 0.53          | 0.004838398944           | 0.02327248735   | 0.2079020979            |\n",
    "| 2^6 | 13.54             | 0.51      | 45.43         | <span style=\"color:red\">0.03 </span>        | 0.0113148568             | 0.0007374248795 | <span style=\"color:red\">15.3437416</span>              |\n",
    "| 2^7 | 48.22             | 2.76      | 95.99         | 46.49         | 0.02878334879            | 0.484274895     | 0.05943597135           |\n",
    "| 2^8 | 220.43            | 15.68     | 254.85        | 409.49        | 0.0615227056             | 1.606802459     | 0.0382889043            |\n",
    "| 2^9 | 1,277.00          | 77.12     | 989.75        | 3,851.00      | 0.07791664562            | 3.890881536     | 0.02002544794           |"
   ]
  },
  {
   "cell_type": "markdown",
   "metadata": {},
   "source": [
    "The red data are anomalies. Still the same when running this code for a second tim"
   ]
  },
  {
   "cell_type": "markdown",
   "metadata": {},
   "source": [
    "## Errors vs Iteration Steps\n",
    "### Maxiter = Dimension of Matrix, Divide Maxiter by 100"
   ]
  },
  {
   "cell_type": "markdown",
   "metadata": {},
   "source": [
    "![Error 289](graphics/error_81.png) </br>\n",
    "A: 81 by 81"
   ]
  },
  {
   "cell_type": "markdown",
   "metadata": {},
   "source": [
    "![Error 289](graphics/error_289.png) </br>\n",
    "A: 289 by 289"
   ]
  },
  {
   "cell_type": "markdown",
   "metadata": {},
   "source": [
    "![Error 4225](graphics/error_4225.png) </br>\n",
    "A: 4225 by 4225"
   ]
  },
  {
   "cell_type": "markdown",
   "metadata": {},
   "source": [
    "![Error 16641](graphics/error_16641.png) </br>\n",
    "A: 16641 by 16641"
   ]
  },
  {
   "cell_type": "markdown",
   "metadata": {},
   "source": [
    "![Error 4225](graphics/error_66049.png) </br>\n",
    "A: 66049 by 66049"
   ]
  },
  {
   "cell_type": "markdown",
   "metadata": {},
   "source": [
    "![Error 4225](graphics/error_263169.png) </br>\n",
    "A: 263169 by 263169"
   ]
  },
  {
   "cell_type": "markdown",
   "metadata": {},
   "source": [
    "As the dimension increases, the ratio of $\\frac{steps\\ to\\ reach\\ convergence}{dimension\\ of\\ A}$ is decreasing"
   ]
  },
  {
   "cell_type": "markdown",
   "metadata": {},
   "source": [
    "# Other explorations"
   ]
  },
  {
   "cell_type": "markdown",
   "metadata": {},
   "source": [
    "### Latexify"
   ]
  },
  {
   "cell_type": "markdown",
   "metadata": {},
   "source": [
    "This package [Latexify](https://korsbo.github.io/Latexify.jl/stable/) can generate sample Julia code (equations and texts) to latex format\n",
    "\n",
    "```\n",
    "ode = @ode_def PositiveFeedback begin\n",
    "    dx = y*y*y / (k_y_x + y) - x - x\n",
    "    dy = x^n_x / (k_x^n_x + x^n_x) - y\n",
    "    end k_y k_x n_x k_y_x\n",
    "    \n",
    "printout = latexify(ode) |> print\n",
    "\n",
    "$\\begin{align}\n",
    "\\frac{dx(t)}{dt} =& \\frac{\\mathrm{y}\\left( t \\right) \\mathrm{y}\\left( t \\right) \\mathrm{y}\\left( t \\right)}{k_{y\\_x} + \\mathrm{y}\\left( t \\right)} - \\mathrm{x}\\left( t \\right) - \\mathrm{x}\\left( t \\right) \\\\\n",
    "\\frac{dy(t)}{dt} =& \\frac{\\left( \\mathrm{x}\\left( t \\right) \\right)^{n_{x}}}{k_{x}^{n_{x}} + \\left( \\mathrm{x}\\left( t \\right) \\right)^{n_{x}}} - \\mathrm{y}\\left( t \\right)\n",
    "\\end{align}\n",
    "$\n",
    " \n",
    " \n",
    "io = open(\"myfile.txt\",\"w\")\n",
    "write(io,latexify(ode)) # This will save the latex code to a txt file for later use\n",
    " \n",
    "```"
   ]
  },
  {
   "cell_type": "code",
   "execution_count": 41,
   "metadata": {},
   "outputs": [],
   "source": [
    "using Latexify\n",
    "using ParameterizedFunctions\n",
    "using DiffEqBiological"
   ]
  },
  {
   "cell_type": "code",
   "execution_count": 42,
   "metadata": {},
   "outputs": [
    {
     "data": {
      "text/plain": [
       "(::PositiveFeedback{var\"###ParameterizedDiffEqFunction#292\",var\"###ParameterizedTGradFunction#293\",var\"###ParameterizedJacobianFunction#294\",Nothing,Nothing,ModelingToolkit.ODESystem}) (generic function with 1 method)"
      ]
     },
     "execution_count": 42,
     "metadata": {},
     "output_type": "execute_result"
    }
   ],
   "source": [
    "ode = @ode_def PositiveFeedback begin\n",
    "    dx = y*y*y / (k_y_x + y) - x - x\n",
    "    dy = x^n_x / (k_x^n_x + x^n_x) - y\n",
    "    end k_y k_x n_x k_y_x"
   ]
  },
  {
   "cell_type": "code",
   "execution_count": 44,
   "metadata": {},
   "outputs": [
    {
     "data": {
      "text/latex": [
       "$\\begin{align}\n",
       "\\frac{dx(t)}{dt} =& \\frac{\\mathrm{y}\\left( t \\right) \\mathrm{y}\\left( t \\right) \\mathrm{y}\\left( t \\right)}{k_{y\\_x} + \\mathrm{y}\\left( t \\right)} - \\mathrm{x}\\left( t \\right) - \\mathrm{x}\\left( t \\right) \\\\\n",
       "\\frac{dy(t)}{dt} =& \\frac{\\left( \\mathrm{x}\\left( t \\right) \\right)^{n_{x}}}{k_{x}^{n_{x}} + \\left( \\mathrm{x}\\left( t \\right) \\right)^{n_{x}}} - \\mathrm{y}\\left( t \\right)\n",
       "\\end{align}\n",
       "$"
      ],
      "text/plain": [
       "L\"$\\begin{align}\n",
       "\\frac{dx(t)}{dt} =& \\frac{\\mathrm{y}\\left( t \\right) \\mathrm{y}\\left( t \\right) \\mathrm{y}\\left( t \\right)}{k_{y\\_x} + \\mathrm{y}\\left( t \\right)} - \\mathrm{x}\\left( t \\right) - \\mathrm{x}\\left( t \\right) \\\\\n",
       "\\frac{dy(t)}{dt} =& \\frac{\\left( \\mathrm{x}\\left( t \\right) \\right)^{n_{x}}}{k_{x}^{n_{x}} + \\left( \\mathrm{x}\\left( t \\right) \\right)^{n_{x}}} - \\mathrm{y}\\left( t \\right)\n",
       "\\end{align}\n",
       "$\""
      ]
     },
     "metadata": {},
     "output_type": "display_data"
    }
   ],
   "source": [
    "show = latexify(ode) |> display"
   ]
  },
  {
   "cell_type": "code",
   "execution_count": 43,
   "metadata": {},
   "outputs": [
    {
     "name": "stdout",
     "output_type": "stream",
     "text": [
      "$\\begin{align}\n",
      "\\frac{dx(t)}{dt} =& \\frac{\\mathrm{y}\\left( t \\right) \\mathrm{y}\\left( t \\right) \\mathrm{y}\\left( t \\right)}{k_{y\\_x} + \\mathrm{y}\\left( t \\right)} - \\mathrm{x}\\left( t \\right) - \\mathrm{x}\\left( t \\right) \\\\\n",
      "\\frac{dy(t)}{dt} =& \\frac{\\left( \\mathrm{x}\\left( t \\right) \\right)^{n_{x}}}{k_{x}^{n_{x}} + \\left( \\mathrm{x}\\left( t \\right) \\right)^{n_{x}}} - \\mathrm{y}\\left( t \\right)\n",
      "\\end{align}\n",
      "$"
     ]
    }
   ],
   "source": [
    "printout = latexify(ode) |> print"
   ]
  },
  {
   "cell_type": "markdown",
   "metadata": {},
   "source": [
    "### DataFrame"
   ]
  },
  {
   "cell_type": "markdown",
   "metadata": {},
   "source": [
    "This package [DataFrame](https://github.com/JuliaData/DataFrames.jl/blob/master/docs/src/index.md) is similar to DataFrame packages in Python, it offers many useful functions to use Julia for many kinds of data operations in Data Science "
   ]
  },
  {
   "cell_type": "code",
   "execution_count": null,
   "metadata": {},
   "outputs": [],
   "source": []
  }
 ],
 "metadata": {
  "kernelspec": {
   "display_name": "JuliaPro_v1.4.2-1 1.4.2",
   "language": "julia",
   "name": "juliapro_v1.4.2-1-1.4"
  },
  "language_info": {
   "file_extension": ".jl",
   "mimetype": "application/julia",
   "name": "julia",
   "version": "1.4.2"
  }
 },
 "nbformat": 4,
 "nbformat_minor": 4
}
