{
 "cells": [
  {
   "cell_type": "markdown",
   "metadata": {},
   "source": [
    "# Group Meeting September 24"
   ]
  },
  {
   "cell_type": "markdown",
   "metadata": {},
   "source": [
    "## SBP Finite Difference with GPU\n",
    "\n",
    "\n",
    "### SBP operators\n",
    "\n",
    "\n"
   ]
  },
  {
   "cell_type": "markdown",
   "metadata": {},
   "source": [
    "## SBP_GPU package\n",
    "\n",
    "### Status\n",
    "This package is under development. It provides 2D SBP operators with accuracy orders p = 2. In the future it would contain p = 4 and p = 6\n",
    "\n",
    "### Source File\n",
    "\n",
    "```\n",
    "/src/deriv_ops.jl contains all matrix-free functions\n",
    "/src/deriv_ops_beta.jl contains all matrix-free functions with pre-allocated outputs. (Impure functions)\n",
    "/src/deriv_ops_GPU.jl contains all GPU kernels (matrix-free and impure by their nature)\n",
    "/src/deriv_ops_GPU.jl contains some functions that call corresponding kernels and return GPU arrays\n",
    "/src/deriv_ops_GPU.jl contains tester functions that output test information of both CPU and GPU operators\n",
    "\n",
    "```\n",
    "\n",
    "\n",
    "### Test file\n",
    "\n",
    "```\n",
    "/test/runtests.jl can be run by calling test command in package manager\n",
    "```\n",
    "\n",
    "\n",
    "```jl\n",
    "(SBP_GPU) pkg> test SBP_GPU\n",
    "    Testing SBP_GPU\n",
    "Status `/tmp/jl_7hAeg6/Project.toml`\n",
    "  [052768ef] CUDA v1.3.3\n",
    "  [ba82f77b] GPUifyLoops v0.2.9\n",
    "  [da3d5682] SBP_GPU v0.1.0 `~/Github/SBP_GPU/SBP_GPU.jl`\n",
    "  ...\n",
    "\n",
    "Status `/tmp/jl_7dznRn/Manifest.toml`\n",
    "  [621f4979] AbstractFFTs v0.5.0\n",
    "  [79e6a3ab] Adapt v2.1.0\n",
    "  [b99e7846] BinaryProvider v0.5.10\n",
    "  [fa961155] CEnum v0.4.1\n",
    "  ...\n",
    "\n",
    "Test Summary: | Pass  Total\n",
    "SBP_GPU.jl    |    7      7\n",
    "    Testing SBP_GPU tests passed \n",
    "\n",
    "(SBP_GPU) pkg> \n",
    "```"
   ]
  },
  {
   "cell_type": "code",
   "execution_count": null,
   "metadata": {},
   "outputs": [],
   "source": []
  }
 ],
 "metadata": {
  "kernelspec": {
   "display_name": "Julia 1.5.0",
   "language": "julia",
   "name": "julia-1.5"
  },
  "language_info": {
   "file_extension": ".jl",
   "mimetype": "application/julia",
   "name": "julia",
   "version": "1.5.0"
  }
 },
 "nbformat": 4,
 "nbformat_minor": 4
}