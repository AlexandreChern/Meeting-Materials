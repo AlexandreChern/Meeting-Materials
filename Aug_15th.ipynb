{
 "cells": [
  {
   "cell_type": "markdown",
   "metadata": {},
   "source": [
    "# August 14th Meeting\n"
   ]
  },
  {
   "cell_type": "code",
   "execution_count": 1,
   "metadata": {},
   "outputs": [
    {
     "data": {
      "text/plain": [
       "D2x_GPU_v5 (generic function with 1 method)"
      ]
     },
     "execution_count": 1,
     "metadata": {},
     "output_type": "execute_result"
    }
   ],
   "source": [
    "## Finite Difference Operator with Shared Memory\n",
    "\n",
    "using CUDA\n",
    "\n",
    "function D2x_GPU_v5(d_u, d_y, Nx, Ny, h, ::Val{TILE_DIM1}, ::Val{TILE_DIM2}) where {TILE_DIM1, TILE_DIM2}\n",
    "\ttidx = threadIdx().x\n",
    "\ttidy = threadIdx().y\n",
    "\n",
    "\ti = (blockIdx().x - 1) * TILE_DIM1 + tidx\n",
    "\tj = (blockIdx().y - 1) * TILE_DIM2 + tidy\n",
    "\n",
    "\tglobal_index = i + (j-1)*Ny\n",
    "\n",
    "\t# i = (blockIdx().x - 1) * TILE_DIM + threadIdx().x\n",
    "\ttile = @cuStaticSharedMem(eltype(d_u),(TILE_DIM1,TILE_DIM2+4))\n",
    "\n",
    "\tk = tidx\n",
    "\tl = tidy\n",
    "\n",
    "\t# Writing pencil-shaped shared memory\n",
    "\n",
    "\t# for tile itself\n",
    "\tif k <= TILE_DIM1 && l <= TILE_DIM2 && global_index <= Nx*Ny\n",
    "\t\ttile[k,l+2] = d_u[global_index]\n",
    "\tend\n",
    "\n",
    "\tsync_threads()\n",
    "\n",
    "\t# for left halo\n",
    "\tif k <= TILE_DIM1 && l <= 2 && 2*Ny+1 <= global_index <= (Nx+2)*Ny\n",
    "\t\ttile[k,l] = d_u[global_index - 2*Ny]\n",
    "\tend\n",
    "\n",
    "\tsync_threads()\n",
    "\n",
    "\n",
    "\t# for right halo\n",
    "\tif k <= TILE_DIM1 && l >= TILE_DIM2 - 2 && 2*Ny+1 <= global_index <= (Nx-2)*Ny\n",
    "\t\ttile[k,l+4] = d_u[global_index + 2*Ny]\n",
    "\tend\n",
    "\n",
    "\tsync_threads()\n",
    "\n",
    "\t# Finite difference operation starts here\n",
    "\n",
    "\tif k <= TILE_DIM1 && l + 2 <= TILE_DIM2 + 4 && global_index <= Ny\n",
    "\t\td_y[global_index] = (tile[k,l + 2] - 2*tile[k,l+3] + tile[k,l+4]) / h^2\n",
    "\tend\n",
    "\n",
    "\tif k <= TILE_DIM1 &&  l + 2 <= TILE_DIM2 + 4 && Ny+1 <= global_index <= (Nx-1)*Ny\n",
    "\t\td_y[global_index] = (tile[k,l + 1] - 2*tile[k, l + 2] + tile[k,l+3]) / h^2\n",
    "\tend\n",
    "\n",
    "\tif k <= TILE_DIM1 && l + 2 <= TILE_DIM2 + 4 && (Nx-1)*Ny + 1 <= global_index <= Nx*Ny\n",
    "\t\td_y[global_index] = (tile[k,l] - 2*tile[k,l + 1] + tile[k,l+2]) / h^2\n",
    "\tend\n",
    "\n",
    "\tsync_threads()\n",
    "\n",
    "\tnothing\n",
    "end"
   ]
  },
  {
   "cell_type": "markdown",
   "metadata": {},
   "source": [
    "This works, but the performance is not ideal. I believe it has something to do with how I write data into shared memory.\n",
    "\n",
    "This is how it's done in C++ code. I tried something similar, but there were bugs. So I go with my current implementation that doesn't do copy past within shared memory for halo.\n",
    "\n",
    "\n",
    "```\n",
    "// fill in periodic images in shared memory array \n",
    "  if (i < 4) {\n",
    "    s_f[sj][si-4]  = s_f[sj][si+mx-5];\n",
    "    s_f[sj][si+mx] = s_f[sj][si+1];   \n",
    "  }\n",
    "```"
   ]
  }
 ],
 "metadata": {
  "kernelspec": {
   "display_name": "JuliaPro_v1.4.2-1 1.4.2",
   "language": "julia",
   "name": "juliapro_v1.4.2-1-1.4"
  },
  "language_info": {
   "file_extension": ".jl",
   "mimetype": "application/julia",
   "name": "julia",
   "version": "1.4.2"
  }
 },
 "nbformat": 4,
 "nbformat_minor": 4
}
