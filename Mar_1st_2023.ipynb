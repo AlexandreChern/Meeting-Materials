{
 "cells": [
  {
   "attachments": {},
   "cell_type": "markdown",
   "metadata": {},
   "source": [
    "## Multigrid Convergence\n",
    "\n",
    "#### Multigrid Finite Element Methods on Semi-structured Triangular Grids\n",
    "[Link to the paper](https://www.researchgate.net/publication/252912468_Multigrid_finite_element_methods_on_semi-structured_triangular_grids#fullTextFileContent)\n",
    "Modle problem \n",
    "$\\Delta u = f$\n",
    "Right-hand side and the Dirichlet boundary conditions are obtained via manufactured solution\n",
    "$u(x,y) = \\sin(\\pi x) \\sin(\\pi y)$\n",
    "\n",
    "Local fourier analysis for convergence results\n",
    "\n",
    "Books on with introduction to LFA\n",
    "\n",
    "- U. Trottenberg, C.W. Oosterlee and A. Schuller Multigrid Academic Press, New York, 2001\n",
    "- P. Wesseling, An introduction to multigrid methods. John Wiley, Chichester, UK, 1992\n",
    "- R. Wienands and W. Joppich, Practical Fourier analysis for multigrid methods. Chapman and Hall/CRC Press, 2005\n",
    "\n",
    "\n",
    "![Local fourier Analysis](March_1st/Local_fourier_analysis.png)\n",
    "\n",
    "\n"
   ]
  },
  {
   "attachments": {},
   "cell_type": "markdown",
   "metadata": {},
   "source": [
    "Conergence results\n",
    "\n",
    "![multigrid convergence](March_1st/multigrid_convergence_F_cycle.png)"
   ]
  },
  {
   "attachments": {},
   "cell_type": "markdown",
   "metadata": {},
   "source": [
    "#### Parallel Implementation of an Adaptive, Multigrid Solver for the Implicit Solution of Nonlinear Parabolic Systems, with Application to a Multi-Phase-Field Model for Tumour Growth\n",
    "\n",
    "Abstract: The first half of the paper provides an overview of a new engineering software tool that is designed for the efficient solution of problems that may be modeled as systems of linear and nonlinear partial differential equations (PDEs) of parabolic type. Our tool is built upon the PARAMESH library, [15], which provides hierarchical mesh adaptivity in parallel in two and three dimensions. Our discretizations are based upon cell-centred finite difference schemes in space and implicit multi-step methods in time (primarily the second order backward differential formula (BDF2)). This results in the need to solve a nonlinear algebraic system at each time step, and we have implemented an optimal nonlinear multigrid method based upon full approximation scheme (FAS). The second half of the presentation illustrates the application of this new software framework to a challenging application, namely a multi-phase-field model of tumour growth [18]. We show some typical simulations for growth of the model tumours, and these results demonstrate second-order convergence in both space and time. We conclude with a discussion of the challenges of obtaining highly scalable parallel performance for a software tool that combines both local mesh adaptivity (requiring efficient dynamic load-balancing) and a multigrid solver (requiring careful implementation of coarse grid operations and inter-grid transfer operations in parallel).\n",
    "\n",
    "[link to paper](https://www.researchgate.net/publication/303617529_Parallel_Implementation_of_an_Adaptive_Multigrid_Solver_for_the_Implicit_Solution_of_Nonlinear_Parabolic_Systems_with_Application_to_a_Multi-Phase-Field_Model_for_Tumour_Growth#fullTextFileContent)"
   ]
  },
  {
   "attachments": {},
   "cell_type": "markdown",
   "metadata": {},
   "source": [
    "![multigrid](March_1st/No_multigrid_V-cycles.png)"
   ]
  },
  {
   "attachments": {},
   "cell_type": "markdown",
   "metadata": {},
   "source": [
    "#### Tractability of Complex Control Systems\n",
    "\n",
    "Abstract: This thesis is divided into two main parts. In the first part, we consider the problem of efficiently computing wavefront estimates for use in adaptive optics hardware on ground-based telescopes. Our contribution is to enable wavefront estimation for future large telescopes. To this effect, we have developed a warm-started single-iteration multigrid algorithm that performs as well as conventional vector-matrix-multiplication methods, but at a fraction of the computational cost. We used numerical simulations to compare our algorithm to a variety of other published methods, and validated our findings at the Palomar Observatory. In the second part, we consider feedback control subject to an information constraint. Such problems are called decentralized, and are not always tractable. Using a novel algebraic framework, we are able to prove many structural results, including a new convexity result, in a natural and purely algebraic way. This framework is particularly well-suited for analyzing systems described by rational transfer functions. We also develop a new condition called internal quadratic invariance, a condition under which the controller synthesis can be cast as a convex optimization problem. This describes the most general class of tractable decentralized control problems known to date. The key insight is that the system's representation is not unique; and choosing the right representation can make determining tractability easier. Both parts of the thesis fit into the broader question of tractability of complex systems. In the first part we look at a practical example which is difficult because of the large number of sensors and actuators. In the second part, we look at decentralized control, which is difficult because of the non-classical information constraint.\n",
    "\n",
    "\n",
    "[link to paper](https://www.researchgate.net/publication/261437447_Tractability_of_Complex_Control_Systems)\n",
    "\n",
    "\n",
    "![figure 3.5](March_1st/Convergence-plots-comparing-simple-multigrid-MG-with-conjugate-gradient-methods_W640.jpg)\n",
    "\n",
    "Figure 3.5: Convergence plots comparing simple multigrid (MG), with conjugate gradient methods using either a multigrid (MG-PCG) or Fourier-domain (FD-PCG) preconditioner. MG methods use Gauss-Seidel (GS) or Jacobi (J) smoothers. The pair (ν 1 ,ν 2 ) is the number of pre-and post-smoothing steps. Most methods converge in a few iterations with comparable computational effort. We averaged 1000 independent runs.\n",
    "\n",
    "\n",
    "![figure 3.6](March_1st/Plots-comparing-converged-values-of-various-methods-using-the-open-loop-warm-start_W640.jpg)\n",
    "\n",
    "Figure 3.6: Plots comparing converged values of various methods using the open-loop warm-start technique. For every method except MG-J(1,0) and FD-PCG, only one iteration per measurement is required for minimum error. The best method to choose is simply the one that has the smallest iteration cost. We averaged 1000 independent runs.\n"
   ]
  },
  {
   "attachments": {},
   "cell_type": "markdown",
   "metadata": {},
   "source": [
    "#### Multigrid Schemes for High Order Discretizations of Hyperbolic Problems\n",
    "\n",
    "[Link to paper](https://link.springer.com/article/10.1007/s10915-020-01166-4)\n",
    "\n",
    "\n",
    "\n",
    "\n",
    "![multigrid sbp-sat convergence](March_1st/multigrid_SBP_SAT_convergence.webp)\n",
    "\n",
    "Convergence plots for the multigrid algorithm in (17) with 3rd (top left), 4th (top right), 5th (bottom left), 6th (bottom right) order discretizations for all grids. RK4 time marching with $\\lambda = 0.5$\n",
    " was used on each grid\n",
    "\n",
    "\n"
   ]
  },
  {
   "attachments": {},
   "cell_type": "markdown",
   "metadata": {},
   "source": [
    "#### GPU Acceleration of Multigrid Preconditioned Conjugate Gradient Solver on Block-Structured Cartesian Grid\n",
    "\n",
    "[link to paper](https://dl.acm.org/doi/10.1145/3432261.3432273)\n",
    "\n",
    "Abstract: We develop a multigrid preconditioned conjugate gradient (MG-CG) solver for the pressure Poisson equation in a two-phase flow CFD code JUPITER. The JUPITER code is redesigned to realize efficient CFD simulations including complex boundaries and objects based on a block-structured Cartesian grid system. The code is written in CUDA, and is tuned to achieve high performance on GPU based supercomputers. The main kernels of the MG-CG solver achieve more than 90% of the roofline performance. The MG preconditioner is constructed based on the geometric MG method with a three-stage V-cycle, and a red-black SOR (RB-SOR) smoother and its variant with cache-reuse optimization (CR-SOR) are applied at each stage. The numerical experiments are conducted for two-phase flows in a fuel bundle of a nuclear reactor. Thanks to the block-structured data format, grids inside fuel pins are removed without performance degradation, and the total number of grids is reduced to 2.26 × 109, which is about 70% of the original Cartesian grid. The MG-CG solvers with the RB-SOR and CR-SOR smoothers reduce the number of iterations to less than 15% and 9% of the original preconditioned CG method, leading to 3.1- and 5.9-times speedups, respectively. In the strong scaling test, the MG-CG solver with the CR-SOR smoother is accelerated by 2.1 times between 64 and 256 GPUs. The obtained performance indicates that the MG-CG solver designed for the block-structured grid is highly efficient and enables large-scale simulations of two-phase flows on GPU based supercomputers.\n",
    "\n",
    "![figure](March_1st/hpcasia2021-12-fig13.jpg)\n",
    "\n",
    "Figure 9: Convergence histories of the P-CG, MG-CG, and CRMG-CG solvers. A large JUPITER matrix from a two-phase flow problem in a 8 × 8 fuel bundle is computed using 64 GPUs. The P-CG, MG-CG, and CRMG-CG solvers are respectively converged with 1,306, 194, and 114 iterations. The calculation time until convergence of the P-CG, MG-CG, and CRMG-CG solvers are respectively 446, 142, and 76 seconds.\n",
    "\n"
   ]
  },
  {
   "attachments": {},
   "cell_type": "markdown",
   "metadata": {},
   "source": [
    "#### Automatic Local Fourier Analysis Software ALFA.jl\n",
    "\n",
    "Written in Julia. [link to documentation](https://nilskintscher.github.io/ALFA.jl/dev/examples/example_01/)\n",
    "\n",
    "\n",
    "#### Local Fourier Analysis Toolkit LFAToolkit.jl\n",
    "Written also in Julia. Jed Brown is a coauthor to this software [Link to the repo](https://github.com/jeremylt/LFAToolkit.jl)\n"
   ]
  },
  {
   "cell_type": "markdown",
   "metadata": {},
   "source": []
  }
 ],
 "metadata": {
  "kernelspec": {
   "display_name": "Julia 1.7.2",
   "language": "julia",
   "name": "julia-1.7"
  },
  "language_info": {
   "file_extension": ".jl",
   "mimetype": "application/julia",
   "name": "julia",
   "version": "1.7.2"
  },
  "orig_nbformat": 4
 },
 "nbformat": 4,
 "nbformat_minor": 2
}
