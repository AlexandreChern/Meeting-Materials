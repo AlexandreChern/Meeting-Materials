{
 "cells": [
  {
   "attachments": {},
   "cell_type": "markdown",
   "metadata": {},
   "source": [
    "## Multigrid Convergence\n",
    "\n",
    "#### Multigrid Finite Element Methods on Semi-structured Triangular Grids\n",
    "[Link to the paper](https://www.researchgate.net/publication/252912468_Multigrid_finite_element_methods_on_semi-structured_triangular_grids#fullTextFileContent)\n"
   ]
  },
  {
   "cell_type": "markdown",
   "metadata": {},
   "source": [
    "![multigrid convergence](March_1st/multigrid_convergence_F_cycle.png)"
   ]
  },
  {
   "cell_type": "markdown",
   "metadata": {},
   "source": []
  }
 ],
 "metadata": {
  "kernelspec": {
   "display_name": "Julia 1.7.2",
   "language": "julia",
   "name": "julia-1.7"
  },
  "language_info": {
   "file_extension": ".jl",
   "mimetype": "application/julia",
   "name": "julia",
   "version": "1.7.2"
  },
  "orig_nbformat": 4
 },
 "nbformat": 4,
 "nbformat_minor": 2
}
