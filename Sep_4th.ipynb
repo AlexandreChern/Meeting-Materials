{
 "cells": [
  {
   "cell_type": "markdown",
   "metadata": {},
   "source": [
    "# Sep.4th Meeting \n",
    "\n",
    "## One existing bug\n",
    "\n",
    "If we are doing finite difference in x direction:\n",
    "if mod(Nx,TILE_DIM_X) = 1: bug even HALO_WIDTH >= 2\n",
    "if mod(Nx,TIME_DIM_X) >= 2: looks okay\n",
    "\n",
    "\n",
    "One way to avoid this: set TILE_DIM according to the value of Nx to avoid this\n",
    "\n",
    "Nx = 5\n",
    "\n",
    "TILE_DIM = 2, 4 : bug\n",
    "but TILE_DIM = 3: no bug  mod(5,3) == 2\n",
    "\n",
    "\n",
    "\n",
    "Nx = Ny = 1001\n",
    "\n",
    "D2y\n",
    "\n",
    "TILE_DIM = (4,16)\n",
    " \n",
    "TILE_DIM = (16,4)\n"
   ]
  },
  {
   "cell_type": "code",
   "execution_count": null,
   "metadata": {},
   "outputs": [],
   "source": []
  }
 ],
 "metadata": {
  "kernelspec": {
   "display_name": "JuliaPro_v1.4.2-1 1.4.2",
   "language": "julia",
   "name": "juliapro_v1.4.2-1-1.4"
  },
  "language_info": {
   "file_extension": ".jl",
   "mimetype": "application/julia",
   "name": "julia",
   "version": "1.4.2"
  }
 },
 "nbformat": 4,
 "nbformat_minor": 4
}
