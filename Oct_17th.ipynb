{
 "metadata": {
  "language_info": {
   "codemirror_mode": {
    "name": "ipython",
    "version": 3
   },
   "file_extension": ".py",
   "mimetype": "text/x-python",
   "name": "python",
   "nbconvert_exporter": "python",
   "pygments_lexer": "ipython3",
   "version": "3.8.3-final"
  },
  "orig_nbformat": 2,
  "kernelspec": {
   "name": "julia-1.5",
   "display_name": "Julia 1.5.0"
  }
 },
 "nbformat": 4,
 "nbformat_minor": 2,
 "cells": [
  {
   "source": [
    "# October 17th Meeting"
   ],
   "cell_type": "markdown",
   "metadata": {}
  },
  {
   "source": [
    "## Implementation of 4th Order Operators"
   ],
   "cell_type": "markdown",
   "metadata": {}
  },
  {
   "source": [
    "function Dx_p4(y_in, Nx, Ny, h)\n",
    "\td  = [1/12 -2/3 0 2/3 -1/12]\n",
    "    bd = [-24/17  59/34  -4/17  -3/34  0     0;\n",
    "           -1/2    0      1/2    0     0     0;\n",
    "            4/43 -59/86   0     59/86 -4/43  0;\n",
    "            3/98   0    -59/98   0    32/49 -4/49]\n",
    "\tN = Nx*Ny\n",
    "\ty_out = zeros(N)\n",
    "\n",
    "\tfor row_num = 1:size(bd)[1]\n",
    "\t\tidx = (row_num - 1)*Ny+1:(row_num)*Ny\n",
    "\t\ty_out[idx] = (bd[row_num,1] * y_in[idx .+ (1 - row_num)*Ny] + bd[row_num,2] * y_in[idx .+ Ny*(2-row_num)] + bd[row_num,3] * y_in[idx .+ Ny*(3-row_num)] + bd[row_num,4] * y_in[idx .+ Ny*(4-row_num)] + bd[row_num,5] * y_in[idx .+ Ny*(5-row_num)] + bd[row_num,6] * y_in[idx .+ Ny*(6-row_num)]) ./ h\n",
    "\tend\n",
    "\n",
    "\tidx1 = (size(bd)[1])*Ny+1:N-(size(bd)[1])*Ny\n",
    "\ty_out[idx1] = (d[1]*y_in[idx1 .- 2*Ny] + d[2]*y_in[idx1 .- Ny] + d[3]*y_in[idx1] + d[4]*y_in[idx1 .+ Ny] + d[5] * y_in[idx1 .+ 2*Ny]) ./ (h)\n",
    "\n",
    "\tfor row_num = 1:size(bd)[1]\n",
    "\t\tidx2 = N-(row_num)*Ny+1:N .- (row_num - 1)*Ny\n",
    "\t\ty_out[idx2] = -(bd[row_num,1] * y_in[idx2 .+ (row_num - 1)*Ny] + bd[row_num,2] * y_in[idx2 .- Ny*(2-row_num)] + bd[row_num,3] * y_in[idx2 .- Ny*(3-row_num)] + bd[row_num,4]*y_in[idx2 .- Ny*(4-row_num)] + bd[row_num,5] * y_in[idx2 .- Ny*(5-row_num)] + bd[row_num,6] * y_in[idx2 .- Ny*(6-row_num)]) ./ h\n",
    "\tend\n",
    "\n",
    "\treturn y_out\n",
    "end"
   ],
   "cell_type": "code",
   "metadata": {},
   "execution_count": 3,
   "outputs": [
    {
     "output_type": "execute_result",
     "data": {
      "text/plain": [
       "Dx_p4 (generic function with 1 method)"
      ]
     },
     "metadata": {},
     "execution_count": 3
    }
   ]
  },
  {
   "source": [
    "```jl\n",
    "julia> y_out_1 ≈ y_out_2\n",
    "true\n",
    "\n",
    "julia> reshape(y_out_1 - y_out_2,11,11)\n",
    "11×11 Array{Float64,2}:\n",
    "  0.0           4.44089e-16   2.22045e-16   8.88178e-16   0.0          …  -8.88178e-16  -8.88178e-16   0.0          -3.33067e-16\n",
    " -4.44089e-16  -4.44089e-16   2.22045e-16  -1.77636e-15   8.88178e-16      3.33067e-16   0.0           8.88178e-16   0.0\n",
    " -3.55271e-15  -8.88178e-16   8.88178e-16   0.0           2.22045e-16      1.77636e-15  -1.77636e-15   0.0           0.0\n",
    "  0.0           0.0           1.77636e-15  -1.77636e-15  -1.77636e-15      1.77636e-15  -1.77636e-15  -1.77636e-15   3.55271e-15\n",
    "  0.0           0.0          -1.77636e-15   0.0          -3.19189e-16     -4.44089e-16   0.0           0.0          -3.55271e-15\n",
    "  3.55271e-15   0.0           0.0           0.0           0.0          …   0.0           1.77636e-15   8.88178e-16   4.44089e-16\n",
    "  0.0           1.77636e-15   1.11022e-16   4.44089e-16  -4.44089e-16      8.88178e-16   3.55271e-15   0.0           0.0\n",
    "  8.88178e-16  -1.77636e-15   0.0          -1.08247e-15   0.0              0.0           0.0           8.88178e-16  -3.55271e-15\n",
    " -3.55271e-15   0.0           4.44089e-16  -4.44089e-16  -8.88178e-16      0.0           2.66454e-15  -1.77636e-15   0.0\n",
    "  7.10543e-15   0.0           7.10543e-15  -1.77636e-15  -7.77156e-16      2.77556e-16   8.88178e-16   8.88178e-16   0.0\n",
    "  0.0           0.0           0.0           8.88178e-16   0.0          …   1.77636e-15   0.0           0.0           1.77636e-15\n",
    "```"
   ],
   "cell_type": "markdown",
   "metadata": {}
  },
  {
   "cell_type": "code",
   "execution_count": null,
   "metadata": {},
   "outputs": [],
   "source": []
  }
 ]
}