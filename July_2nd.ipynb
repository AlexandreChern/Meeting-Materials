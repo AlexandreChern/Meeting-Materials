{
 "cells": [
  {
   "cell_type": "markdown",
   "metadata": {},
   "source": [
    "# July_2nd Meeting"
   ]
  },
  {
   "cell_type": "markdown",
   "metadata": {},
   "source": [
    "## Main bottleneck: assembleλmatrix\n",
    "\n",
    "I rewrite this part \n",
    "```\n",
    "B = -(F[e]' \\ Fbar[vrng,λrng])\n",
    "```\n",
    "\n",
    "to \n",
    "\n",
    "```\n",
    "B = similar(Fbar[vrng,λrng])\n",
    "for lb in λrng\n",
    "    B[:,lb-λrng[1]+1] = F[e]' \\ Fbar[vrng,lb]\n",
    "end\n",
    "```\n",
    "\n",
    "\n",
    "Because it was more memory efficient from my previous formulation, and using for loop allows the using of @threads macro. But the lhs and rhs are of different data type, I couldn't use @threads or .= to assign results for speedup\n",
    "\n",
    "```\n",
    "typeof(Fbar[vrng, lb]) = SparseVector{Float64,Int64}\n",
    "size(Fbar[vrng, lb]) = (289,)\n",
    "\n",
    "typeof((F[e])' \\ Fbar[vrng, lb]) = SuiteSparse.CHOLMOD.Sparse{Float64}\n",
    "size((F[e])' \\ Fbar[vrng, lb]) = (289, 1)\n",
    "\n",
    "typeof(B[:, (lb - λrng[1]) + 1]) = SparseVector{Float64,Int64}\n",
    "size(B[:, (lb - λrng[1]) + 1]) = (289,)\n",
    "```\n",
    "\n",
    "\n",
    "\n",
    "### for a single solve \n",
    "```\n",
    "display(@benchmark B = $F[$e]' \\ $Fbar[$vrng,$λrng]) \n",
    "```\n",
    "\n",
    "```\n",
    "lvl = 1\n",
    "N: 128\n",
    "BenchmarkTools.Trial:\n",
    "  memory estimate:  540.31 KiB\n",
    "  allocs estimate:  57\n",
    "  --------------\n",
    "  minimum time:     354.901 μs (0.00% GC)\n",
    "  median time:      477.801 μs (0.00% GC)\n",
    "  mean time:        633.214 μs (12.71% GC)\n",
    "  maximum time:     135.778 ms (57.39% GC)\n",
    "  --------------\n",
    "  samples:          7858\n",
    "  evals/sample:     1\n",
    " ```\n",
    " \n",
    " \n",
    " ## For assembleλmatrix() function\n",
    " ```\n",
    " rs2 = @benchmark assembleλmatrix($FToλstarts, $vstarts, $EToF, $FToB, $locfactors, $D, $FbarT)\n",
    " display(rs2)\n",
    " \n",
    " ```\n",
    " \n",
    " ```\n",
    "lvl = 1\n",
    "N: 128\n",
    "Time for direct solve in forming λ: 0.1549990177154541\n",
    "Time elapsed (assembleλmatrix) for lvl 1 = 0.44099998474121094\n",
    "BenchmarkTools.Trial: \n",
    "  memory estimate:  268.08 MiB\n",
    "  allocs estimate:  2234771\n",
    "  --------------\n",
    "  minimum time:     275.601 ms (0.00% GC)\n",
    "  median time:      320.938 ms (0.00% GC)\n",
    "  mean time:        329.361 ms (6.92% GC)\n",
    "  maximum time:     383.987 ms (15.51% GC)\n",
    "  --------------\n",
    "  samples:          16\n",
    "  evals/sample:     1\n",
    " ```\n",
    " \n",
    " \n",
    " ### The actual size of the matrix that we formed\n",
    " \n",
    " ```\n",
    " println(Base.summarysize(B))    # This is for lvl=1, N:128\n",
    " 3233704    \n",
    " ```\n",
    " \n",
    " The unit is byte here, which is equivalent to 3.23 MB. Apprently, we used way more memory than what might be actually needed.\n",
    " "
   ]
  },
  {
   "cell_type": "markdown",
   "metadata": {},
   "source": [
    "### The size of input variables\n",
    "\n",
    "```\n",
    "lvl = 1\n",
    "N: 128\n",
    "Time for direct solve in forming λ: 0.3900001049041748\n",
    "Base.summarysize(FToλstarts) = 1200\n",
    "Base.summarysize(vstarts) = 560\n",
    "Base.summarysize(EToF) = 2088\n",
    "Base.summarysize(FToB) = 1192\n",
    "Base.summarysize(locfactors) = 1064\n",
    "Base.summarysize(D) = 15272\n",
    "Base.summarysize(FbarT) = 452776\n",
    "Base.summarysize(B) = 3233704\n",
    "Time elapsed (assembleλmatrix) for lvl 1 = 0.619999885559082\n",
    "3233704\n",
    "BenchmarkTools.Trial:\n",
    "  memory estimate:  268.08 MiB\n",
    "  allocs estimate:  2234771\n",
    "  --------------\n",
    "  minimum time:     270.548 ms (0.00% GC)\n",
    "  median time:      320.611 ms (0.00% GC)\n",
    "  mean time:        344.188 ms (8.69% GC)\n",
    "  maximum time:     468.399 ms (19.59% GC)\n",
    "  --------------\n",
    "  samples:          15\n",
    "  evals/sample:     1\n",
    " ```"
   ]
  },
  {
   "cell_type": "markdown",
   "metadata": {},
   "source": [
    "## The lose of Uniqueness after cholesky factorization for sparse arrays"
   ]
  },
  {
   "cell_type": "code",
   "execution_count": 29,
   "metadata": {},
   "outputs": [],
   "source": [
    "using LinearAlgebra, SparseArrays\n",
    "using BenchmarkTools"
   ]
  },
  {
   "cell_type": "code",
   "execution_count": 33,
   "metadata": {},
   "outputs": [
    {
     "data": {
      "text/plain": [
       "10×10 Array{Float64,2}:\n",
       "  8.32786    0.693927    2.65727   …  -1.44212    -1.49326   -0.619995\n",
       "  0.887947  10.2028      0.79298      -0.0876955   0.505224   1.29697\n",
       "  0.554862   0.519721   11.957         1.43327     0.870661   0.834926\n",
       "  0.585187   1.03877     0.594165      0.104889   -1.09138    0.399069\n",
       "  0.635657  -0.700768   -0.148571     -0.130156   -0.959544   1.72176\n",
       "  0.336809  -0.739029    0.085315  …  -1.1913      1.00665    1.83767\n",
       " -0.754212   0.394895   -1.54056       0.501873   -0.16344   -0.492459\n",
       "  0.416951   0.0557032  -0.17261      10.8881      0.34887    0.952062\n",
       "  1.40034    0.20756     1.28929       0.505223    9.62325    0.761276\n",
       " -0.414654   0.214014    0.523935     -0.211288    0.536887  10.2106"
      ]
     },
     "execution_count": 33,
     "metadata": {},
     "output_type": "execute_result"
    }
   ],
   "source": [
    "n = 10\n",
    "A = randn(n,n) + n*I\n",
    "D = randn(n,n) + n*I\n",
    "B = copy(A)\n",
    "C = copy(A)"
   ]
  },
  {
   "cell_type": "code",
   "execution_count": 34,
   "metadata": {},
   "outputs": [
    {
     "data": {
      "text/plain": [
       "4-element Array{Array{Float64,2},1}:\n",
       " [8.327858712821735 0.6939269098856935 … -1.4932625607784997 -0.6199953766451872; 0.8879474155846846 10.202800316621781 … 0.5052237214140406 1.2969745647500217; … ; 1.400340790666633 0.20756001469719654 … 9.623251677348625 0.7612756409374186; -0.41465420605600134 0.21401367214488198 … 0.5368870559426947 10.21057564916159]\n",
       " [8.327858712821735 0.6939269098856935 … -1.4932625607784997 -0.6199953766451872; 0.8879474155846846 10.202800316621781 … 0.5052237214140406 1.2969745647500217; … ; 1.400340790666633 0.20756001469719654 … 9.623251677348625 0.7612756409374186; -0.41465420605600134 0.21401367214488198 … 0.5368870559426947 10.21057564916159]\n",
       " [8.327858712821735 0.6939269098856935 … -1.4932625607784997 -0.6199953766451872; 0.8879474155846846 10.202800316621781 … 0.5052237214140406 1.2969745647500217; … ; 1.400340790666633 0.20756001469719654 … 9.623251677348625 0.7612756409374186; -0.41465420605600134 0.21401367214488198 … 0.5368870559426947 10.21057564916159]\n",
       " [10.491159728910194 1.0380741125275268 … -0.08695821768760689 0.22170667193805202; -0.3469501107911587 10.111258442644681 … 1.9439556425883215 -0.3027922155138604; … ; 1.4249695467173005 -1.1850063330394995 … 9.331473857007838 0.2520877096400087; -1.0106293170621834 -0.31590503082776844 … 1.1696234403539112 8.99390595598669]"
      ]
     },
     "execution_count": 34,
     "metadata": {},
     "output_type": "execute_result"
    }
   ],
   "source": [
    "list = [A,B,C,D]"
   ]
  },
  {
   "cell_type": "code",
   "execution_count": 35,
   "metadata": {},
   "outputs": [
    {
     "data": {
      "text/plain": [
       "2-element Array{Array{Float64,2},1}:\n",
       " [8.327858712821735 0.6939269098856935 … -1.4932625607784997 -0.6199953766451872; 0.8879474155846846 10.202800316621781 … 0.5052237214140406 1.2969745647500217; … ; 1.400340790666633 0.20756001469719654 … 9.623251677348625 0.7612756409374186; -0.41465420605600134 0.21401367214488198 … 0.5368870559426947 10.21057564916159]\n",
       " [10.491159728910194 1.0380741125275268 … -0.08695821768760689 0.22170667193805202; -0.3469501107911587 10.111258442644681 … 1.9439556425883215 -0.3027922155138604; … ; 1.4249695467173005 -1.1850063330394995 … 9.331473857007838 0.2520877096400087; -1.0106293170621834 -0.31590503082776844 … 1.1696234403539112 8.99390595598669]"
      ]
     },
     "execution_count": 35,
     "metadata": {},
     "output_type": "execute_result"
    }
   ],
   "source": [
    "unique(list) # Only two unique elements, since B "
   ]
  },
  {
   "cell_type": "code",
   "execution_count": 36,
   "metadata": {},
   "outputs": [
    {
     "data": {
      "text/plain": [
       "4-element Array{Cholesky{Float64,Array{Float64,2}},1}:\n",
       " Cholesky{Float64,Array{Float64,2}}([2.885802958072802 0.24046233231014222 … -0.5174513237645757 -0.21484328128183525; 0.8879474155846846 3.1851182369516122 … 0.19768536887536792 0.42341796470920273; … ; 1.400340790666633 0.20756001469719654 … 2.953134771645326 0.16509235382980783; -0.41465420605600134 0.21401367214488198 … 0.5368870559426947 3.0392716454321587], 'U', 0)\n",
       " Cholesky{Float64,Array{Float64,2}}([2.885802958072802 0.24046233231014222 … -0.5174513237645757 -0.21484328128183525; 0.8879474155846846 3.1851182369516122 … 0.19768536887536792 0.42341796470920273; … ; 1.400340790666633 0.20756001469719654 … 2.953134771645326 0.16509235382980783; -0.41465420605600134 0.21401367214488198 … 0.5368870559426947 3.0392716454321587], 'U', 0)\n",
       " Cholesky{Float64,Array{Float64,2}}([2.885802958072802 0.24046233231014222 … -0.5174513237645757 -0.21484328128183525; 0.8879474155846846 3.1851182369516122 … 0.19768536887536792 0.42341796470920273; … ; 1.400340790666633 0.20756001469719654 … 2.953134771645326 0.16509235382980783; -0.41465420605600134 0.21401367214488198 … 0.5368870559426947 3.0392716454321587], 'U', 0)\n",
       " Cholesky{Float64,Array{Float64,2}}([3.2390059785233793 0.3204915703801113 … -0.026847192707946162 0.06844898509237245; -0.3469501107911587 3.163628232893361 … 0.6171900734852891 -0.10264465807350935; … ; 1.4249695467173005 -1.1850063330394995 … 2.921582677668187 0.14180597546519466; -1.0106293170621834 -0.31590503082776844 … 1.1696234403539112 2.9476160728199514], 'U', 0)"
      ]
     },
     "execution_count": 36,
     "metadata": {},
     "output_type": "execute_result"
    }
   ],
   "source": [
    "list_chol = cholesky.(Symmetric.(list))"
   ]
  },
  {
   "cell_type": "code",
   "execution_count": 37,
   "metadata": {},
   "outputs": [
    {
     "data": {
      "text/plain": [
       "2-element Array{Cholesky{Float64,Array{Float64,2}},1}:\n",
       " Cholesky{Float64,Array{Float64,2}}([2.885802958072802 0.24046233231014222 … -0.5174513237645757 -0.21484328128183525; 0.8879474155846846 3.1851182369516122 … 0.19768536887536792 0.42341796470920273; … ; 1.400340790666633 0.20756001469719654 … 2.953134771645326 0.16509235382980783; -0.41465420605600134 0.21401367214488198 … 0.5368870559426947 3.0392716454321587], 'U', 0)\n",
       " Cholesky{Float64,Array{Float64,2}}([3.2390059785233793 0.3204915703801113 … -0.026847192707946162 0.06844898509237245; -0.3469501107911587 3.163628232893361 … 0.6171900734852891 -0.10264465807350935; … ; 1.4249695467173005 -1.1850063330394995 … 2.921582677668187 0.14180597546519466; -1.0106293170621834 -0.31590503082776844 … 1.1696234403539112 2.9476160728199514], 'U', 0)"
      ]
     },
     "execution_count": 37,
     "metadata": {},
     "output_type": "execute_result"
    }
   ],
   "source": [
    "unique(list_chol) # only two unique elemts, after cholesky factorization for dense arrays"
   ]
  },
  {
   "cell_type": "code",
   "execution_count": 38,
   "metadata": {},
   "outputs": [
    {
     "data": {
      "text/plain": [
       "4-element Array{SparseMatrixCSC{Float64,Int64},1}:\n",
       " \n",
       "  [1 ,  1]  =  8.32786\n",
       "  [2 ,  1]  =  0.887947\n",
       "  [3 ,  1]  =  0.554862\n",
       "  [4 ,  1]  =  0.585187\n",
       "  [5 ,  1]  =  0.635657\n",
       "  [6 ,  1]  =  0.336809\n",
       "  [7 ,  1]  =  -0.754212\n",
       "  [8 ,  1]  =  0.416951\n",
       "  [9 ,  1]  =  1.40034\n",
       "  [10,  1]  =  -0.414654\n",
       "  [1 ,  2]  =  0.693927\n",
       "  [2 ,  2]  =  10.2028\n",
       "  ⋮\n",
       "  [8 ,  9]  =  0.34887\n",
       "  [9 ,  9]  =  9.62325\n",
       "  [10,  9]  =  0.536887\n",
       "  [1 , 10]  =  -0.619995\n",
       "  [2 , 10]  =  1.29697\n",
       "  [3 , 10]  =  0.834926\n",
       "  [4 , 10]  =  0.399069\n",
       "  [5 , 10]  =  1.72176\n",
       "  [6 , 10]  =  1.83767\n",
       "  [7 , 10]  =  -0.492459\n",
       "  [8 , 10]  =  0.952062\n",
       "  [9 , 10]  =  0.761276\n",
       "  [10, 10]  =  10.2106\n",
       " \n",
       "  [1 ,  1]  =  8.32786\n",
       "  [2 ,  1]  =  0.887947\n",
       "  [3 ,  1]  =  0.554862\n",
       "  [4 ,  1]  =  0.585187\n",
       "  [5 ,  1]  =  0.635657\n",
       "  [6 ,  1]  =  0.336809\n",
       "  [7 ,  1]  =  -0.754212\n",
       "  [8 ,  1]  =  0.416951\n",
       "  [9 ,  1]  =  1.40034\n",
       "  [10,  1]  =  -0.414654\n",
       "  [1 ,  2]  =  0.693927\n",
       "  [2 ,  2]  =  10.2028\n",
       "  ⋮\n",
       "  [8 ,  9]  =  0.34887\n",
       "  [9 ,  9]  =  9.62325\n",
       "  [10,  9]  =  0.536887\n",
       "  [1 , 10]  =  -0.619995\n",
       "  [2 , 10]  =  1.29697\n",
       "  [3 , 10]  =  0.834926\n",
       "  [4 , 10]  =  0.399069\n",
       "  [5 , 10]  =  1.72176\n",
       "  [6 , 10]  =  1.83767\n",
       "  [7 , 10]  =  -0.492459\n",
       "  [8 , 10]  =  0.952062\n",
       "  [9 , 10]  =  0.761276\n",
       "  [10, 10]  =  10.2106\n",
       " \n",
       "  [1 ,  1]  =  8.32786\n",
       "  [2 ,  1]  =  0.887947\n",
       "  [3 ,  1]  =  0.554862\n",
       "  [4 ,  1]  =  0.585187\n",
       "  [5 ,  1]  =  0.635657\n",
       "  [6 ,  1]  =  0.336809\n",
       "  [7 ,  1]  =  -0.754212\n",
       "  [8 ,  1]  =  0.416951\n",
       "  [9 ,  1]  =  1.40034\n",
       "  [10,  1]  =  -0.414654\n",
       "  [1 ,  2]  =  0.693927\n",
       "  [2 ,  2]  =  10.2028\n",
       "  ⋮\n",
       "  [8 ,  9]  =  0.34887\n",
       "  [9 ,  9]  =  9.62325\n",
       "  [10,  9]  =  0.536887\n",
       "  [1 , 10]  =  -0.619995\n",
       "  [2 , 10]  =  1.29697\n",
       "  [3 , 10]  =  0.834926\n",
       "  [4 , 10]  =  0.399069\n",
       "  [5 , 10]  =  1.72176\n",
       "  [6 , 10]  =  1.83767\n",
       "  [7 , 10]  =  -0.492459\n",
       "  [8 , 10]  =  0.952062\n",
       "  [9 , 10]  =  0.761276\n",
       "  [10, 10]  =  10.2106\n",
       " \n",
       "  [1 ,  1]  =  10.4912\n",
       "  [2 ,  1]  =  -0.34695\n",
       "  [3 ,  1]  =  -0.245731\n",
       "  [4 ,  1]  =  -1.17309\n",
       "  [5 ,  1]  =  0.967867\n",
       "  [6 ,  1]  =  1.30788\n",
       "  [7 ,  1]  =  1.90704\n",
       "  [8 ,  1]  =  1.75011\n",
       "  [9 ,  1]  =  1.42497\n",
       "  [10,  1]  =  -1.01063\n",
       "  [1 ,  2]  =  1.03807\n",
       "  [2 ,  2]  =  10.1113\n",
       "  ⋮\n",
       "  [8 ,  9]  =  -0.391103\n",
       "  [9 ,  9]  =  9.33147\n",
       "  [10,  9]  =  1.16962\n",
       "  [1 , 10]  =  0.221707\n",
       "  [2 , 10]  =  -0.302792\n",
       "  [3 , 10]  =  0.682806\n",
       "  [4 , 10]  =  -0.754637\n",
       "  [5 , 10]  =  -0.345884\n",
       "  [6 , 10]  =  0.574491\n",
       "  [7 , 10]  =  0.981671\n",
       "  [8 , 10]  =  -0.402253\n",
       "  [9 , 10]  =  0.252088\n",
       "  [10, 10]  =  8.99391"
      ]
     },
     "execution_count": 38,
     "metadata": {},
     "output_type": "execute_result"
    }
   ],
   "source": [
    "list_sparse = sparse.(list)"
   ]
  },
  {
   "cell_type": "code",
   "execution_count": 39,
   "metadata": {},
   "outputs": [
    {
     "data": {
      "text/plain": [
       "2-element Array{SparseMatrixCSC{Float64,Int64},1}:\n",
       " \n",
       "  [1 ,  1]  =  8.32786\n",
       "  [2 ,  1]  =  0.887947\n",
       "  [3 ,  1]  =  0.554862\n",
       "  [4 ,  1]  =  0.585187\n",
       "  [5 ,  1]  =  0.635657\n",
       "  [6 ,  1]  =  0.336809\n",
       "  [7 ,  1]  =  -0.754212\n",
       "  [8 ,  1]  =  0.416951\n",
       "  [9 ,  1]  =  1.40034\n",
       "  [10,  1]  =  -0.414654\n",
       "  [1 ,  2]  =  0.693927\n",
       "  [2 ,  2]  =  10.2028\n",
       "  ⋮\n",
       "  [8 ,  9]  =  0.34887\n",
       "  [9 ,  9]  =  9.62325\n",
       "  [10,  9]  =  0.536887\n",
       "  [1 , 10]  =  -0.619995\n",
       "  [2 , 10]  =  1.29697\n",
       "  [3 , 10]  =  0.834926\n",
       "  [4 , 10]  =  0.399069\n",
       "  [5 , 10]  =  1.72176\n",
       "  [6 , 10]  =  1.83767\n",
       "  [7 , 10]  =  -0.492459\n",
       "  [8 , 10]  =  0.952062\n",
       "  [9 , 10]  =  0.761276\n",
       "  [10, 10]  =  10.2106\n",
       " \n",
       "  [1 ,  1]  =  10.4912\n",
       "  [2 ,  1]  =  -0.34695\n",
       "  [3 ,  1]  =  -0.245731\n",
       "  [4 ,  1]  =  -1.17309\n",
       "  [5 ,  1]  =  0.967867\n",
       "  [6 ,  1]  =  1.30788\n",
       "  [7 ,  1]  =  1.90704\n",
       "  [8 ,  1]  =  1.75011\n",
       "  [9 ,  1]  =  1.42497\n",
       "  [10,  1]  =  -1.01063\n",
       "  [1 ,  2]  =  1.03807\n",
       "  [2 ,  2]  =  10.1113\n",
       "  ⋮\n",
       "  [8 ,  9]  =  -0.391103\n",
       "  [9 ,  9]  =  9.33147\n",
       "  [10,  9]  =  1.16962\n",
       "  [1 , 10]  =  0.221707\n",
       "  [2 , 10]  =  -0.302792\n",
       "  [3 , 10]  =  0.682806\n",
       "  [4 , 10]  =  -0.754637\n",
       "  [5 , 10]  =  -0.345884\n",
       "  [6 , 10]  =  0.574491\n",
       "  [7 , 10]  =  0.981671\n",
       "  [8 , 10]  =  -0.402253\n",
       "  [9 , 10]  =  0.252088\n",
       "  [10, 10]  =  8.99391"
      ]
     },
     "execution_count": 39,
     "metadata": {},
     "output_type": "execute_result"
    }
   ],
   "source": [
    "unique(list_sparse) # Still only two unique elements"
   ]
  },
  {
   "cell_type": "code",
   "execution_count": 40,
   "metadata": {},
   "outputs": [
    {
     "data": {
      "text/plain": [
       "4-element Array{SuiteSparse.CHOLMOD.Factor{Float64},1}:\n",
       " SuiteSparse.CHOLMOD.Factor{Float64}\n",
       "type:    LLt\n",
       "method:  simplicial\n",
       "maxnnz:  55\n",
       "nnz:     55\n",
       "success: true\n",
       "\n",
       " SuiteSparse.CHOLMOD.Factor{Float64}\n",
       "type:    LLt\n",
       "method:  simplicial\n",
       "maxnnz:  55\n",
       "nnz:     55\n",
       "success: true\n",
       "\n",
       " SuiteSparse.CHOLMOD.Factor{Float64}\n",
       "type:    LLt\n",
       "method:  simplicial\n",
       "maxnnz:  55\n",
       "nnz:     55\n",
       "success: true\n",
       "\n",
       " SuiteSparse.CHOLMOD.Factor{Float64}\n",
       "type:    LLt\n",
       "method:  simplicial\n",
       "maxnnz:  55\n",
       "nnz:     55\n",
       "success: true\n"
      ]
     },
     "execution_count": 40,
     "metadata": {},
     "output_type": "execute_result"
    }
   ],
   "source": [
    "list_sparse_chol = cholesky.(Symmetric.(list_sparse)) # This returns the structure used in the code"
   ]
  },
  {
   "cell_type": "code",
   "execution_count": 41,
   "metadata": {},
   "outputs": [
    {
     "data": {
      "text/plain": [
       "4-element Array{SuiteSparse.CHOLMOD.Factor{Float64},1}:\n",
       " SuiteSparse.CHOLMOD.Factor{Float64}\n",
       "type:    LLt\n",
       "method:  simplicial\n",
       "maxnnz:  55\n",
       "nnz:     55\n",
       "success: true\n",
       "\n",
       " SuiteSparse.CHOLMOD.Factor{Float64}\n",
       "type:    LLt\n",
       "method:  simplicial\n",
       "maxnnz:  55\n",
       "nnz:     55\n",
       "success: true\n",
       "\n",
       " SuiteSparse.CHOLMOD.Factor{Float64}\n",
       "type:    LLt\n",
       "method:  simplicial\n",
       "maxnnz:  55\n",
       "nnz:     55\n",
       "success: true\n",
       "\n",
       " SuiteSparse.CHOLMOD.Factor{Float64}\n",
       "type:    LLt\n",
       "method:  simplicial\n",
       "maxnnz:  55\n",
       "nnz:     55\n",
       "success: true\n"
      ]
     },
     "execution_count": 41,
     "metadata": {},
     "output_type": "execute_result"
    }
   ],
   "source": [
    "unique(list_sparse_chol)   # Now it's no longer only 2 unique elements by default unique functions"
   ]
  },
  {
   "cell_type": "code",
   "execution_count": 42,
   "metadata": {},
   "outputs": [
    {
     "data": {
      "text/plain": [
       "3528"
      ]
     },
     "execution_count": 42,
     "metadata": {},
     "output_type": "execute_result"
    }
   ],
   "source": [
    "Base.summarysize(list_chol)"
   ]
  },
  {
   "cell_type": "code",
   "execution_count": 43,
   "metadata": {},
   "outputs": [
    {
     "data": {
      "text/plain": [
       "104"
      ]
     },
     "execution_count": 43,
     "metadata": {},
     "output_type": "execute_result"
    }
   ],
   "source": [
    "Base.summarysize(list_sparse_chol) # This doesn't look like to represent the full data, I feel like the locfactors that is passed into the function is not really the factorized results for cholesky"
   ]
  },
  {
   "cell_type": "code",
   "execution_count": 44,
   "metadata": {},
   "outputs": [
    {
     "data": {
      "text/plain": [
       "3432"
      ]
     },
     "execution_count": 44,
     "metadata": {},
     "output_type": "execute_result"
    }
   ],
   "source": [
    "Base.summarysize(list)"
   ]
  },
  {
   "cell_type": "code",
   "execution_count": 45,
   "metadata": {},
   "outputs": [
    {
     "data": {
      "text/plain": [
       "7464"
      ]
     },
     "execution_count": 45,
     "metadata": {},
     "output_type": "execute_result"
    }
   ],
   "source": [
    "Base.summarysize(list_sparse)   # The sparse arary formulation for a dense array is larger in size then dense array apparently"
   ]
  },
  {
   "cell_type": "code",
   "execution_count": 46,
   "metadata": {},
   "outputs": [
    {
     "data": {
      "text/plain": [
       "4-element Array{SuiteSparse.UMFPACK.UmfpackLU{Float64,Int64},1}:\n",
       " SuiteSparse.UMFPACK.UmfpackLU{Float64,Int64}(Ptr{Nothing} @0x000000003dffd390, Ptr{Nothing} @0x000000003e314970, 10, 10, [0, 10, 20, 30, 40, 50, 60, 70, 80, 90, 100], [0, 1, 2, 3, 4, 5, 6, 7, 8, 9  …  0, 1, 2, 3, 4, 5, 6, 7, 8, 9], [8.327858712821735, 0.8879474155846846, 0.5548616569672883, 0.5851871738750613, 0.6356572810646595, 0.3368086552931352, -0.7542124716551896, 0.4169511296003448, 1.400340790666633, -0.41465420605600134  …  -0.6199953766451872, 1.2969745647500217, 0.8349259603535737, 0.39906853913411416, 1.721758488395891, 1.8376701008531864, -0.492458604085149, 0.9520618739383508, 0.7612756409374186, 10.21057564916159], 0)\n",
       " SuiteSparse.UMFPACK.UmfpackLU{Float64,Int64}(Ptr{Nothing} @0x000000003dffd510, Ptr{Nothing} @0x000000003e319d70, 10, 10, [0, 10, 20, 30, 40, 50, 60, 70, 80, 90, 100], [0, 1, 2, 3, 4, 5, 6, 7, 8, 9  …  0, 1, 2, 3, 4, 5, 6, 7, 8, 9], [8.327858712821735, 0.8879474155846846, 0.5548616569672883, 0.5851871738750613, 0.6356572810646595, 0.3368086552931352, -0.7542124716551896, 0.4169511296003448, 1.400340790666633, -0.41465420605600134  …  -0.6199953766451872, 1.2969745647500217, 0.8349259603535737, 0.39906853913411416, 1.721758488395891, 1.8376701008531864, -0.492458604085149, 0.9520618739383508, 0.7612756409374186, 10.21057564916159], 0)\n",
       " SuiteSparse.UMFPACK.UmfpackLU{Float64,Int64}(Ptr{Nothing} @0x000000003dffdc90, Ptr{Nothing} @0x000000003e31a470, 10, 10, [0, 10, 20, 30, 40, 50, 60, 70, 80, 90, 100], [0, 1, 2, 3, 4, 5, 6, 7, 8, 9  …  0, 1, 2, 3, 4, 5, 6, 7, 8, 9], [8.327858712821735, 0.8879474155846846, 0.5548616569672883, 0.5851871738750613, 0.6356572810646595, 0.3368086552931352, -0.7542124716551896, 0.4169511296003448, 1.400340790666633, -0.41465420605600134  …  -0.6199953766451872, 1.2969745647500217, 0.8349259603535737, 0.39906853913411416, 1.721758488395891, 1.8376701008531864, -0.492458604085149, 0.9520618739383508, 0.7612756409374186, 10.21057564916159], 0)\n",
       " SuiteSparse.UMFPACK.UmfpackLU{Float64,Int64}(Ptr{Nothing} @0x000000003dffcf10, Ptr{Nothing} @0x000000003e31a630, 10, 10, [0, 10, 20, 30, 40, 50, 60, 70, 80, 90, 100], [0, 1, 2, 3, 4, 5, 6, 7, 8, 9  …  0, 1, 2, 3, 4, 5, 6, 7, 8, 9], [10.491159728910194, -0.3469501107911587, -0.24573091020427423, -1.173092517525435, 0.9678669330634656, 1.3078813504318947, 1.907036871105232, 1.7501089444647826, 1.4249695467173005, -1.0106293170621834  …  0.22170667193805202, -0.3027922155138604, 0.6828059853235279, -0.7546374511786436, -0.3458836922459554, 0.574490958459798, 0.9816714098426429, -0.40225330734142045, 0.2520877096400087, 8.99390595598669], 0)"
      ]
     },
     "execution_count": 46,
     "metadata": {},
     "output_type": "execute_result"
    }
   ],
   "source": [
    "list_sparse_lu = lu.(list_sparse)"
   ]
  },
  {
   "cell_type": "code",
   "execution_count": 47,
   "metadata": {},
   "outputs": [
    {
     "data": {
      "text/plain": [
       "4-element Array{SuiteSparse.UMFPACK.UmfpackLU{Float64,Int64},1}:\n",
       " SuiteSparse.UMFPACK.UmfpackLU{Float64,Int64}(Ptr{Nothing} @0x000000003dffd390, Ptr{Nothing} @0x000000003e314970, 10, 10, [0, 10, 20, 30, 40, 50, 60, 70, 80, 90, 100], [0, 1, 2, 3, 4, 5, 6, 7, 8, 9  …  0, 1, 2, 3, 4, 5, 6, 7, 8, 9], [8.327858712821735, 0.8879474155846846, 0.5548616569672883, 0.5851871738750613, 0.6356572810646595, 0.3368086552931352, -0.7542124716551896, 0.4169511296003448, 1.400340790666633, -0.41465420605600134  …  -0.6199953766451872, 1.2969745647500217, 0.8349259603535737, 0.39906853913411416, 1.721758488395891, 1.8376701008531864, -0.492458604085149, 0.9520618739383508, 0.7612756409374186, 10.21057564916159], 0)\n",
       " SuiteSparse.UMFPACK.UmfpackLU{Float64,Int64}(Ptr{Nothing} @0x000000003dffd510, Ptr{Nothing} @0x000000003e319d70, 10, 10, [0, 10, 20, 30, 40, 50, 60, 70, 80, 90, 100], [0, 1, 2, 3, 4, 5, 6, 7, 8, 9  …  0, 1, 2, 3, 4, 5, 6, 7, 8, 9], [8.327858712821735, 0.8879474155846846, 0.5548616569672883, 0.5851871738750613, 0.6356572810646595, 0.3368086552931352, -0.7542124716551896, 0.4169511296003448, 1.400340790666633, -0.41465420605600134  …  -0.6199953766451872, 1.2969745647500217, 0.8349259603535737, 0.39906853913411416, 1.721758488395891, 1.8376701008531864, -0.492458604085149, 0.9520618739383508, 0.7612756409374186, 10.21057564916159], 0)\n",
       " SuiteSparse.UMFPACK.UmfpackLU{Float64,Int64}(Ptr{Nothing} @0x000000003dffdc90, Ptr{Nothing} @0x000000003e31a470, 10, 10, [0, 10, 20, 30, 40, 50, 60, 70, 80, 90, 100], [0, 1, 2, 3, 4, 5, 6, 7, 8, 9  …  0, 1, 2, 3, 4, 5, 6, 7, 8, 9], [8.327858712821735, 0.8879474155846846, 0.5548616569672883, 0.5851871738750613, 0.6356572810646595, 0.3368086552931352, -0.7542124716551896, 0.4169511296003448, 1.400340790666633, -0.41465420605600134  …  -0.6199953766451872, 1.2969745647500217, 0.8349259603535737, 0.39906853913411416, 1.721758488395891, 1.8376701008531864, -0.492458604085149, 0.9520618739383508, 0.7612756409374186, 10.21057564916159], 0)\n",
       " SuiteSparse.UMFPACK.UmfpackLU{Float64,Int64}(Ptr{Nothing} @0x000000003dffcf10, Ptr{Nothing} @0x000000003e31a630, 10, 10, [0, 10, 20, 30, 40, 50, 60, 70, 80, 90, 100], [0, 1, 2, 3, 4, 5, 6, 7, 8, 9  …  0, 1, 2, 3, 4, 5, 6, 7, 8, 9], [10.491159728910194, -0.3469501107911587, -0.24573091020427423, -1.173092517525435, 0.9678669330634656, 1.3078813504318947, 1.907036871105232, 1.7501089444647826, 1.4249695467173005, -1.0106293170621834  …  0.22170667193805202, -0.3027922155138604, 0.6828059853235279, -0.7546374511786436, -0.3458836922459554, 0.574490958459798, 0.9816714098426429, -0.40225330734142045, 0.2520877096400087, 8.99390595598669], 0)"
      ]
     },
     "execution_count": 47,
     "metadata": {},
     "output_type": "execute_result"
    }
   ],
   "source": [
    "unique(list_sparse_lu) # Still 4 unique elements by default unique functions"
   ]
  },
  {
   "cell_type": "code",
   "execution_count": 48,
   "metadata": {},
   "outputs": [
    {
     "data": {
      "text/plain": [
       "false"
      ]
     },
     "execution_count": 48,
     "metadata": {},
     "output_type": "execute_result"
    }
   ],
   "source": [
    "list_sparse_lu[1] == list_sparse_lu[2]"
   ]
  },
  {
   "cell_type": "code",
   "execution_count": 49,
   "metadata": {},
   "outputs": [
    {
     "data": {
      "text/plain": [
       "7560"
      ]
     },
     "execution_count": 49,
     "metadata": {},
     "output_type": "execute_result"
    }
   ],
   "source": [
    "Base.summarysize(list_sparse_lu)  # The size looks correct, because it's larger than the list_sparse itself"
   ]
  },
  {
   "cell_type": "code",
   "execution_count": 50,
   "metadata": {},
   "outputs": [
    {
     "data": {
      "text/plain": [
       "BenchmarkTools.Trial: \n",
       "  memory estimate:  142.33 KiB\n",
       "  allocs estimate:  252\n",
       "  --------------\n",
       "  minimum time:     45.300 μs (0.00% GC)\n",
       "  median time:      49.200 μs (0.00% GC)\n",
       "  mean time:        61.664 μs (3.42% GC)\n",
       "  maximum time:     3.754 ms (17.25% GC)\n",
       "  --------------\n",
       "  samples:          10000\n",
       "  evals/sample:     1"
      ]
     },
     "execution_count": 50,
     "metadata": {},
     "output_type": "execute_result"
    }
   ],
   "source": [
    "@benchmark lu.(list_sparse)"
   ]
  },
  {
   "cell_type": "code",
   "execution_count": 51,
   "metadata": {},
   "outputs": [
    {
     "data": {
      "text/plain": [
       "BenchmarkTools.Trial: \n",
       "  memory estimate:  39.06 KiB\n",
       "  allocs estimate:  146\n",
       "  --------------\n",
       "  minimum time:     24.700 μs (0.00% GC)\n",
       "  median time:      25.900 μs (0.00% GC)\n",
       "  mean time:        44.189 μs (23.93% GC)\n",
       "  maximum time:     55.405 ms (90.56% GC)\n",
       "  --------------\n",
       "  samples:          10000\n",
       "  evals/sample:     1"
      ]
     },
     "execution_count": 51,
     "metadata": {},
     "output_type": "execute_result"
    }
   ],
   "source": [
    "@benchmark cholesky.(Symmetric.(list_sparse))"
   ]
  },
  {
   "cell_type": "code",
   "execution_count": 52,
   "metadata": {},
   "outputs": [
    {
     "data": {
      "text/plain": [
       "10-element Array{Float64,1}:\n",
       "  0.6723234166465615\n",
       "  0.4122849762906771\n",
       " -0.5759678843626039\n",
       "  0.35141505192262046\n",
       " -1.4407677865129205\n",
       " -0.21550991387799628\n",
       "  0.21968639857866154\n",
       "  0.3963015215727377\n",
       " -1.4532203109960133\n",
       " -0.021531581408536234"
      ]
     },
     "execution_count": 52,
     "metadata": {},
     "output_type": "execute_result"
    }
   ],
   "source": [
    "b = randn(n)"
   ]
  },
  {
   "cell_type": "code",
   "execution_count": 54,
   "metadata": {},
   "outputs": [
    {
     "data": {
      "text/plain": [
       "BenchmarkTools.Trial: \n",
       "  memory estimate:  832 bytes\n",
       "  allocs estimate:  4\n",
       "  --------------\n",
       "  minimum time:     798.067 ns (0.00% GC)\n",
       "  median time:      808.654 ns (0.00% GC)\n",
       "  mean time:        837.539 ns (0.78% GC)\n",
       "  maximum time:     4.965 μs (78.58% GC)\n",
       "  --------------\n",
       "  samples:          10000\n",
       "  evals/sample:     104"
      ]
     },
     "execution_count": 54,
     "metadata": {},
     "output_type": "execute_result"
    }
   ],
   "source": [
    "@benchmark list_sparse_lu[1] \\ b"
   ]
  },
  {
   "cell_type": "code",
   "execution_count": 56,
   "metadata": {},
   "outputs": [
    {
     "data": {
      "text/plain": [
       "BenchmarkTools.Trial: \n",
       "  memory estimate:  936 bytes\n",
       "  allocs estimate:  9\n",
       "  --------------\n",
       "  minimum time:     725.954 ns (0.00% GC)\n",
       "  median time:      783.206 ns (0.00% GC)\n",
       "  mean time:        1.368 μs (12.46% GC)\n",
       "  maximum time:     552.090 μs (77.43% GC)\n",
       "  --------------\n",
       "  samples:          10000\n",
       "  evals/sample:     131"
      ]
     },
     "execution_count": 56,
     "metadata": {},
     "output_type": "execute_result"
    }
   ],
   "source": [
    "@benchmark list_sparse_chol[1] \\ b   # but the benchmark here seems to show that list_sparse_chol actually stores the results after cholesky factorization"
   ]
  },
  {
   "cell_type": "code",
   "execution_count": 58,
   "metadata": {},
   "outputs": [
    {
     "data": {
      "text/plain": [
       "BenchmarkTools.Trial: \n",
       "  memory estimate:  36.52 KiB\n",
       "  allocs estimate:  67\n",
       "  --------------\n",
       "  minimum time:     12.700 μs (0.00% GC)\n",
       "  median time:      14.500 μs (0.00% GC)\n",
       "  mean time:        17.550 μs (3.60% GC)\n",
       "  maximum time:     3.205 ms (26.50% GC)\n",
       "  --------------\n",
       "  samples:          10000\n",
       "  evals/sample:     1"
      ]
     },
     "execution_count": 58,
     "metadata": {},
     "output_type": "execute_result"
    }
   ],
   "source": [
    "@benchmark list_sparse[1] \\ b   # significantly slower than the above two results for factorized matrices"
   ]
  },
  {
   "cell_type": "markdown",
   "metadata": {},
   "source": [
    "## Rework on the code to accept variables from environment"
   ]
  },
  {
   "cell_type": "markdown",
   "metadata": {},
   "source": [
    "Purpose: To avoid changing the julia file each time to test different mesh with different levels. I want the code to accept variables from the environment. <br>\n",
    "[ArgParse.jl](https://argparsejl.readthedocs.io/en/latest/argparse.html)\n",
    "\n",
    "```\n",
    "function parse_commandline()\n",
    "    s = ArgParseSettings()\n",
    "\n",
    "    @add_arg_table s  begin\n",
    "        \"--block_num\", \"-b\"\n",
    "            help = \"an option with an argument\"\n",
    "            arg_type = Int\n",
    "            default = 4\n",
    "        \"--level_num\", \"-l\"\n",
    "            help = \"another option with an argument\"\n",
    "            arg_type = Int\n",
    "            default = 4\n",
    "\n",
    "        \"--sbp_level\", \"-o\"\n",
    "            help = \"SBP operators order\"\n",
    "            arg_type = Int\n",
    "            default = 6\n",
    "    end\n",
    "    return parse_args(s)\n",
    "end\n",
    "\n",
    "\n",
    "parsed_args = parse_commandline()\n",
    "\n",
    "# @show parsed_args\n",
    "\n",
    "block_num = parsed_args[\"block_num\"]\n",
    "level_num = parsed_args[\"level_num\"]\n",
    "SBP_lvl = parsed_args[\"sbp_level\"]\n",
    "\n",
    "\n",
    "let\n",
    "    # number of blocks in each side\n",
    "    # n_block = 8\n",
    "    n_block = block_num\n",
    "    \n",
    "    # SBP interior order\n",
    "    # SBPp   = 6\n",
    "    SBPp = SBP_lvl\n",
    "    \n",
    "    # num_of_lvls = 4\n",
    "    num_of_lvls = level_num\n",
    "\n",
    "```\n",
    "\n",
    "With these changes, I can write a sbatch file that automatically execute the same julia code multiple times with different variables. <br>\n",
    "\n",
    "```\n",
    "#!/bin/bash\n",
    "#SBATCH --account=erickson   ### change this to your actual account for charging\n",
    "#SBATCH --partition=short      ### queue to submit to\n",
    "#SBATCH --job-name=block_auto    ### job name\n",
    "#SBATCH --output=block_auto.out   ### file in which to store job stdout\n",
    "#SBATCH --error=block_auto.err    ### file in which to store job stderr\n",
    "#SBATCH --time=1-00:00:00                ### wall-clock time limit, in minutes\n",
    "#SBATCH --mem=128000              ### memory limit per node, in MB\n",
    "#SBATCH --nodes=1               ### number of nodes to use\n",
    "#SBATCH --ntasks-per-node=1     ### number of tasks to launch per node\n",
    "#SBATCH --cpus-per-task=1       ### number of cores for each task\n",
    "\n",
    "module load julia\n",
    "cd ..\n",
    "for block in 2 4 8 16\n",
    "do\n",
    "    JULIA_NUM_THREADS=4 julia test_multithreading.jl -b $block\n",
    "done\n",
    "```\n",
    "\n"
   ]
  },
  {
   "cell_type": "markdown",
   "metadata": {},
   "source": [
    "### Results for 16 x 16 block, with 4 lvls. Maximum N: 2048 (2^11)\n",
    "\n",
    "```\n",
    "lvl = 4\n",
    "N: 2048\n",
    "Time for direct solve in forming λ: 3054.992022037506\n",
    "256\n",
    "256\n",
    "Time elapsed (assembleλmatrix) for lvl 4 = 3356.643639087677\n",
    "BenchmarkTools.Trial:\n",
    "  memory estimate:  310.78 GiB\n",
    "  allocs estimate:  4122006752\n",
    "  --------------\n",
    "  minimum time:     3349.839 s (2.43% GC)\n",
    "  median time:      3349.839 s (2.43% GC)\n",
    "  mean time:        3349.839 s (2.43% GC)\n",
    "  maximum time:     3349.839 s (2.43% GC)\n",
    "  --------------\n",
    "  samples:          1\n",
    "  evals/sample:     1(lvl, ϵ[lvl]) = (4, 7.878551842159896e-8)\n",
    "Time elapsed for the whole code is approximately 17985.978904008865\n",
    "Time elapsed (reading matrices) for lvl 4 = 0.027836203575134277\n",
    "Time elapsed (linear solve with reading matrices) for lvl 4 = 132.41919736862184\n",
    "Time elapsed (All three parts) for lvl 4 = 110.44069814682007\n",
    "[25.998885943287647, 5.432191066145421, 5.806870289716743]\n",
    "```\n",
    "\n",
    "I am not quite sure about the validity of @benchmark macro when it comes to the measurement of the memory. Because The memory estimate is 310.78 GiB here, and I only requested 128 GiB. <br>\n",
    "\n",
    "\n",
    "I check the job status via slurm system `seff 12371580` (12371580 is the job id)\n",
    "```\n",
    "Job ID: 12371580\n",
    "Cluster: slurm_cluster\n",
    "User/Group: yiminc/talapas\n",
    "State: COMPLETED (exit code 0)\n",
    "Cores: 1\n",
    "CPU Utilized: 08:04:19\n",
    "CPU Efficiency: 99.99% of 08:04:23 core-walltime\n",
    "Job Wall-clock time: 08:04:23\n",
    "Memory Utilized: 18.39 GB\n",
    "Memory Efficiency: 14.71% of 125.00 GB\n",
    "```\n",
    "\n",
    "\n",
    "So the memory estimate that @benchmark macro gives is the total memory estimate for each intermediate results and the actual maximum memory utilized could be much smaller because there is garbage collector working to recycle memory."
   ]
  },
  {
   "cell_type": "markdown",
   "metadata": {},
   "source": [
    "Other jobs are still running\n",
    "```\n",
    "[yiminc@talapas-ln1 decomposite]$ sacct -u yiminc\n",
    "       JobID    JobName  Partition    Account  AllocCPUS      State ExitCode \n",
    "------------ ---------- ---------- ---------- ---------- ---------- -------- \n",
    "12366127     4_block_l+    longfat   erickson          1    PENDING      0:0 \n",
    "12369551     2_block_s+      short   erickson          1    RUNNING      0:0 \n",
    "12369551.ba+      batch              erickson          1    RUNNING      0:0 \n",
    "12369551.ex+     extern              erickson          1    RUNNING      0:0 \n",
    "12369552     4_block_s+      short   erickson          1    RUNNING      0:0 \n",
    "12369552.ba+      batch              erickson          1    RUNNING      0:0 \n",
    "12369552.ex+     extern              erickson          1    RUNNING      0:0 \n",
    "12369553     8_block_s+      short   erickson          1    RUNNING      0:0 \n",
    "12369553.ba+      batch              erickson          1    RUNNING      0:0 \n",
    "12369553.ex+     extern              erickson          1    RUNNING      0:0 \n",
    "12369554     16_block_+      short   erickson          1    RUNNING      0:0 \n",
    "12369554.ba+      batch              erickson          1    RUNNING      0:0 \n",
    "12369554.ex+     extern              erickson          1    RUNNING      0:0 \n",
    "12371580     block_auto      short   erickson          1  COMPLETED      0:0 \n",
    "12371580.ba+      batch              erickson          1  COMPLETED      0:0 \n",
    "12371580.ex+     extern              erickson          1  COMPLETED      0:0 \n",
    "\n",
    "```\n",
    "\n",
    "One job in longfat (1-14 days, very large memory) partition is still waiting. I also tried long partition, but I was informed no available node for my memory requirement 128000M."
   ]
  },
  {
   "cell_type": "code",
   "execution_count": null,
   "metadata": {},
   "outputs": [],
   "source": []
  }
 ],
 "metadata": {
  "kernelspec": {
   "display_name": "JuliaPro_v1.4.2-1 1.4.2",
   "language": "julia",
   "name": "juliapro_v1.4.2-1-1.4"
  },
  "language_info": {
   "file_extension": ".jl",
   "mimetype": "application/julia",
   "name": "julia",
   "version": "1.4.2"
  }
 },
 "nbformat": 4,
 "nbformat_minor": 4
}
