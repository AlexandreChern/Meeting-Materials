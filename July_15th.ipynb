{
 "cells": [
  {
   "cell_type": "markdown",
   "metadata": {},
   "source": [
    "![table](graphics/tab1_for_brittany.png)\n",
    "\n",
    "\n",
    "This is the [link](https://www.overleaf.com/4588648356xcctvxzmtdnp\n",
    ") to overleaf"
   ]
  },
  {
   "cell_type": "markdown",
   "metadata": {},
   "source": [
    "Single block non-hybridized method\n",
    "\n",
    "```\n",
    "\n",
    "Value for k:  10\n",
    "Value for N: 4096\n",
    "Time for factorization:\n",
    "BenchmarkTools.Trial:\n",
    "  memory estimate:  43.64 GiB\n",
    "  allocs estimate:  65\n",
    "  --------------\n",
    "  minimum time:     787.977 s (0.03% GC)\n",
    "  median time:      787.977 s (0.03% GC)\n",
    "  mean time:        787.977 s (0.03% GC)\n",
    "  maximum time:     787.977 s (0.03% GC)\n",
    "  --------------\n",
    "  samples:          1\n",
    "  evals/sample:     1\n",
    "  \n",
    "Time for direct solve:\n",
    "BenchmarkTools.Trial:\n",
    "  memory estimate:  1.00 GiB\n",
    "  allocs estimate:  6\n",
    "  --------------\n",
    "  minimum time:     12.422 s (0.02% GC)\n",
    "  median time:      12.422 s (0.02% GC)\n",
    "  mean time:        12.422 s (0.02% GC)\n",
    "  maximum time:     12.422 s (0.02% GC)\n",
    "  --------------\n",
    "  samples:          1\n",
    "  evals/sample:     1\n",
    "  \n",
    "  \n",
    "direct_err = 2.632854041622349e-8\n",
    "```\n",
    "\n",
    "\n",
    "Background memory usage\n",
    "\n",
    "```\n",
    "[yiminc@talapas-ln2 extrema_test]$ sacct -j 12460321 --format=\"MAXRSS\"\n",
    "    MaxRSS\n",
    "----------\n",
    "\n",
    " 66000512K  (66 GB)\n",
    "         0\n",
    "```"
   ]
  },
  {
   "cell_type": "markdown",
   "metadata": {},
   "source": [
    "## Profiling Tools\n",
    "[Link](https://juliagpu.gitlab.io/CUDA.jl/development/profiling/) to CUDA.jl document.\n",
    "\n",
    "I tested nvprof, it works both on Talapas and my Windows PC.\n",
    "\n",
    "Nvidia Nsight profiling tools worked with Julia on my windows PC, but Nvidia Nsight Compute has some issue connecting to Julia processs.\n",
    "\n",
    "\n",
    "CUDA.jl only supports Julia 1.4 and later. I tested it on my own PC, but Julia 1.4 is not available on Talapas. CUDA.jl is designed to be a unified GPU programming package that is similar to CUDA C packages with same function names and methods\n",
    "\n",
    "\n",
    "## Profiling GPU code on Talapas\n",
    "\n",
    "```\n",
    "==5362== Warning: Auto boost enabled on device 0. Profiling results may be inconsistent.\n",
    "```\n"
   ]
  },
  {
   "cell_type": "markdown",
   "metadata": {},
   "source": [
    "## Online Resources for GPU programming\n",
    "Introduction to GPU programming offered by Nvidia. Using CUDA and C <br>\n",
    "https://classroom.udacity.com/courses/cs344"
   ]
  },
  {
   "cell_type": "code",
   "execution_count": null,
   "metadata": {},
   "outputs": [],
   "source": []
  }
 ],
 "metadata": {
  "kernelspec": {
   "display_name": "JuliaPro_v1.4.2-1 1.4.2",
   "language": "julia",
   "name": "juliapro_v1.4.2-1-1.4"
  },
  "language_info": {
   "file_extension": ".jl",
   "mimetype": "application/julia",
   "name": "julia",
   "version": "1.4.2"
  }
 },
 "nbformat": 4,
 "nbformat_minor": 4
}
