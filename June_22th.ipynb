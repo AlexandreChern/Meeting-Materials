{
 "cells": [
  {
   "cell_type": "markdown",
   "metadata": {},
   "source": [
    "# Meeting June 22"
   ]
  },
  {
   "cell_type": "code",
   "execution_count": null,
   "metadata": {},
   "outputs": [],
   "source": []
  },
  {
   "cell_type": "markdown",
   "metadata": {},
   "source": [
    "## Preconditioner\n",
    "\n",
    "[AMG package](https://github.com/JuliaLinearAlgebra/AlgebraicMultigrid.jl): Algebraic Multigrid \n"
   ]
  },
  {
   "cell_type": "markdown",
   "metadata": {},
   "source": [
    "```\n",
    "N = 2^10\n",
    "julia> size(A)\n",
    "(1050625, 1050625)\n",
    "\n",
    "\n",
    "# Solving directly with LU decomposition\n",
    "\n",
    "# Factorization\n",
    "@benchmark A_fac = lu(A)\n",
    "\n",
    " memory estimate:  2.07 GiB\n",
    "  allocs estimate:  65\n",
    "  --------------\n",
    "  minimum time:     8.331 s (0.03% GC)\n",
    "  median time:      8.331 s (0.03% GC)\n",
    "  mean time:        8.331 s (0.03% GC)\n",
    "  maximum time:     8.331 s (0.03% GC)\n",
    "  --------------\n",
    "  samples:          1\n",
    "  evals/sample:     1\n",
    "  \n",
    " \n",
    "@benchmark A_fac \\ b\n",
    " memory estimate:  64.13 MiB\n",
    "  allocs estimate:  6\n",
    "  --------------\n",
    "  minimum time:     510.915 ms (0.00% GC)\n",
    "  median time:      513.875 ms (0.00% GC)\n",
    "  mean time:        516.267 ms (0.00% GC)\n",
    "  maximum time:     527.832 ms (0.00% GC)\n",
    "  --------------\n",
    "  samples:          10\n",
    "  evals/sample:     1\n",
    " \n",
    "\n",
    "# Construct Ruge Stuben Solver\n",
    "ml = ruge_stuben(A)\n",
    "\n",
    "# Using as preconditioner\n",
    "p = aspreconditioner(ml)\n",
    "\n",
    "@benchmark ml = ruge_stuben(A)\n",
    "\n",
    " memory estimate:  2.18 GiB\n",
    "  allocs estimate:  938\n",
    "  --------------\n",
    "  minimum time:     2.953 s (50.83% GC)\n",
    "  median time:      3.018 s (52.00% GC)\n",
    "  mean time:        3.018 s (52.00% GC)\n",
    "  maximum time:     3.083 s (53.13% GC)\n",
    "  --------------\n",
    "  samples:          2\n",
    "  evals/sample:     1\n",
    "\n",
    "@benchmark p = aspreconditioner(ml)\n",
    "\n",
    "memory estimate:  32 bytes\n",
    "  allocs estimate:  1\n",
    "  --------------\n",
    "  minimum time:     21.241 ns (0.00% GC)\n",
    "  median time:      21.743 ns (0.00% GC)\n",
    "  mean time:        26.562 ns (16.15% GC)\n",
    "  maximum time:     7.550 μs (99.33% GC)\n",
    "  --------------\n",
    "  samples:          10000\n",
    "  evals/sample:     998\n",
    "\n",
    "\n",
    "\n",
    "# Conjugate Gradient without preconditioner: initialization with all-zero vector\n",
    "@benchmark cg(A,b) \n",
    "memory estimate:  40.08 MiB\n",
    "  allocs estimate:  19\n",
    "  --------------\n",
    "  minimum time:     30.714 s (0.00% GC)\n",
    "  median time:      30.714 s (0.00% GC)\n",
    "  mean time:        30.714 s (0.00% GC)\n",
    "  maximum time:     30.714 s (0.00% GC)\n",
    "  --------------\n",
    "  samples:          1\n",
    "  evals/sample:     1\n",
    "\n",
    "\n",
    "# Conjugate Gradient using ruge_stuben as preconditioner: initialization with all-zero vector\n",
    "\n",
    "memory estimate:  40.08 MiB\n",
    "  allocs estimate:  22\n",
    "  --------------\n",
    "  minimum time:     1.097 s (0.35% GC)\n",
    "  median time:      1.137 s (0.31% GC)\n",
    "  mean time:        1.129 s (0.25% GC)\n",
    "  maximum time:     1.160 s (0.31% GC)\n",
    "  --------------\n",
    "  samples:          5\n",
    "  evals/sample:     1\n",
    "  \n",
    "  \n",
    "  \n",
    "  # Directly Using Algebraic Multigrid Method\n",
    "  \n",
    "  @benchmark solve(ml,b)\n",
    "  \n",
    "   memory estimate:  8.02 MiB\n",
    "  allocs estimate:  2\n",
    "  --------------\n",
    "  minimum time:     1.210 s (0.00% GC)\n",
    "  median time:      1.276 s (0.00% GC)\n",
    "  mean time:        1.296 s (0.00% GC)\n",
    "  maximum time:     1.421 s (0.00% GC)\n",
    "  --------------\n",
    "  samples:          4\n",
    "  evals/sample:     1\n",
    "  \n",
    "  ```"
   ]
  },
  {
   "cell_type": "markdown",
   "metadata": {},
   "source": [
    "## Not so successful part: [LinearOperator.jl](https://github.com/JuliaSmoothOptimizers/LinearOperators.jl) package\n",
    "\n",
    "```\n",
    "A_op = LinearOperator(A)\n",
    "@benchmark cg(A_op,b)\n",
    "\n",
    "  memory estimate:  19.72 GiB\n",
    "  allocs estimate:  5047\n",
    "  --------------\n",
    "  minimum time:     37.136 s (5.60% GC)\n",
    "  median time:      37.136 s (5.60% GC)\n",
    "  mean time:        37.136 s (5.60% GC)\n",
    "  maximum time:     37.136 s (5.60% GC)\n",
    "  --------------\n",
    "  samples:          1\n",
    "  evals/sample:     1\n",
    "\n",
    "```"
   ]
  },
  {
   "cell_type": "markdown",
   "metadata": {},
   "source": [
    "## Banded Matrix Factorization\n"
   ]
  },
  {
   "cell_type": "markdown",
   "metadata": {},
   "source": [
    "This package can define [BandedMatrix](https://github.com/JuliaMatrices/BandedMatrices.jl) </br>\n",
    "It utilizes [LimitedLDLFactorizations](https://github.com/JuliaSmoothOptimizers/LimitedLDLFactorizations.jl) perform factorization and solving for BandedMatrix\n",
    "\n",
    "using lldl in `LimitedLDLFactorizations.jl` would save memory significantly, and it can perform factorization with constraint to memory <br>\n",
    "\n",
    "```\n",
    "lldl(A)\n",
    "```"
   ]
  },
  {
   "cell_type": "code",
   "execution_count": null,
   "metadata": {},
   "outputs": [],
   "source": []
  },
  {
   "cell_type": "code",
   "execution_count": null,
   "metadata": {},
   "outputs": [],
   "source": []
  },
  {
   "cell_type": "code",
   "execution_count": null,
   "metadata": {},
   "outputs": [],
   "source": []
  },
  {
   "cell_type": "markdown",
   "metadata": {},
   "source": [
    "# Reworking on Hybrid Code\n",
    "\n",
    "## Separate Matrices forming and Factorizations\n",
    "\n",
    "Getting rid of `threaded_LocalGlobalOperators` <br>\n",
    "Decompose `SBPLocalOperator1` into two parts `SBPLocalOperator1_forming` and `SBPLocalOperator1_factorization`\n",
    "\n",
    "\n",
    "\n",
    "\n",
    "## Errors still exist for cholesky factorizations\n",
    "\n",
    "Hybrid method on the mesh with 4 by 4 blocks (LoadError with )\n",
    "\n",
    "\n",
    "```\n",
    "lvl = 5\n",
    "N: 1024\n",
    "Time elapsed (assembleλmatrix) for lvl 5 = 305.92599987983704\n",
    "(lvl, ϵ[lvl]) = (5, 2.5755272693657694e-6)\n",
    "Time elapsed for the whole code is approximately 325.7149999141693\n",
    "Time elapsed (reading matrices) for lvl 5 = 9.999275207519531e-5\n",
    "Time elapsed (linear solve with reading matrices) for lvl 5 = 0.33499999046325685\n",
    "Time elapsed (All three parts) for lvl 5 = 0.35230002403259275\n",
    "\n",
    "lvl = 6\n",
    "N: 2048\n",
    "ERROR: LoadError: ArgumentError: sparse matrix construction failed for unknown reasons. Please submit a bug report.\n",
    "Stacktrace:\n",
    " [1] SuiteSparse.CHOLMOD.Sparse{Float64}(::Ptr{SuiteSparse.CHOLMOD.C_Sparse{Float64}}) at C:\\Users\\julia\\AppData\\Local\\Julia-1.4.2\\share\\julia\\stdlib\\v1.4\\SuiteSparse\\src\\cholmod.jl:264\n",
    " [2] Sparse at C:\\Users\\julia\\AppData\\Local\\Julia-1.4.2\\share\\julia\\stdlib\\v1.4\\SuiteSparse\\src\\cholmod.jl:283 [inlined]\n",
    " [3] spsolve(::Int32, ::SuiteSparse.CHOLMOD.Factor{Float64}, ::SuiteSparse.CHOLMOD.Sparse{Float64}) at C:\\Users\\julia\\AppData\\Local\\Julia-1.4.2\\share\\julia\\stdlib\\v1.4\\SuiteSparse\\src\\cholmod.jl:772\n",
    " [4] \\ at C:\\Users\\julia\\AppData\\Local\\Julia-1.4.2\\share\\julia\\stdlib\\v1.4\\SuiteSparse\\src\\cholmod.jl:1720 [inlined]\n",
    " [5] \\ at C:\\Users\\julia\\AppData\\Local\\Julia-1.4.2\\share\\julia\\stdlib\\v1.4\\SuiteSparse\\src\\cholmod.jl:1721 [inlined]\n",
    " [6] assembleλmatrix(::Array{Int64,1}, ::Array{Int64,1}, ::Array{Int64,2}, ::Array{Int64,1}, ::Array{SuiteSparse.CHOLMOD.Factor{Float64},1}, ::Array{Float64,1}, ::SparseMatrixCSC{Float64,Int64}) at C:\\Users\\cheny\\OneDrive\\Documents\\version-control\\SBP_Seismology\\decomposite\\global_curved.jl:850\n",
    " [7] top-level scope at C:\\Users\\cheny\\OneDrive\\Documents\\version-control\\SBP_Seismology\\decomposite\\test_multithreading.jl:257\n",
    " [8] include(::String) at .\\client.jl:439\n",
    " [9] top-level scope at none:0\n",
    "in expression starting at C:\\Users\\cheny\\OneDrive\\Documents\\version-control\\SBP_Seismology\\decomposite\\test_multithreading.jl:6\n",
    "```\n",
    "\n",
    "Hybrid method on the mesh with 8 by 8 blocks\n",
    "\n",
    "```\n",
    "lvl = 4\n",
    "N: 1024\n",
    "Time elapsed (assembleλmatrix) for lvl 4 = 181.62999987602234\n",
    "(lvl, ϵ[lvl]) = (4, 3.7967141132278187e-6)\n",
    "Time elapsed for the whole code is approximately 200.8140001296997\n",
    "Time elapsed (reading matrices) for lvl 4 = 9.999275207519531e-5\n",
    "Time elapsed (linear solve with reading matrices) for lvl 4 = 0.24119999408721923\n",
    "Time elapsed (All three parts) for lvl 4 = 0.24890000820159913\n",
    "\n",
    "lvl = 5\n",
    "N: 2048\n",
    "ERROR: LoadError: OutOfMemoryError()\n",
    "Stacktrace:\n",
    " [1] Array at .\\boot.jl:405 [inlined]\n",
    " [2] _allocres at C:\\Users\\julia\\AppData\\Local\\Julia-1.4.2\\share\\julia\\stdlib\\v1.4\\SparseArrays\\src\\higherorderfns.jl:234 [inlined]\n",
    " [3] _noshapecheck_map(::typeof(-), ::SparseMatrixCSC{Float64,Int64}, ::SparseMatrixCSC{Float64,Int64}) at C:\\Users\\julia\\AppData\\Local\\Julia-1.4.2\\share\\julia\\stdlib\\v1.4\\SparseArrays\\src\\higherorderfns.jl:164\n",
    " [4] _shapecheckbc at C:\\Users\\julia\\AppData\\Local\\Julia-1.4.2\\share\\julia\\stdlib\\v1.4\\SparseArrays\\src\\higherorderfns.jl:1025 [inlined]\n",
    " [5] _copy at C:\\Users\\julia\\AppData\\Local\\Julia-1.4.2\\share\\julia\\stdlib\\v1.4\\SparseArrays\\src\\higherorderfns.jl:1015 [inlined]\n",
    " [6] copy at C:\\Users\\julia\\AppData\\Local\\Julia-1.4.2\\share\\julia\\stdlib\\v1.4\\SparseArrays\\src\\higherorderfns.jl:1131 [inlined]\n",
    " [7] materialize at .\\broadcast.jl:820 [inlined]\n",
    " [8] broadcast_preserving_zero_d at .\\broadcast.jl:809 [inlined]\n",
    " [9] -(::SparseMatrixCSC{Float64,Int64}, ::Adjoint{Float64,SparseMatrixCSC{Float64,Int64}}) at .\\arraymath.jl:39\n",
    " [10] isapprox(::SparseMatrixCSC{Float64,Int64}, ::Adjoint{Float64,SparseMatrixCSC{Float64,Int64}}; atol::Int64, rtol::Float64, nans::Bool, norm::typeof(norm)) at C:\\Users\\julia\\AppData\\Local\\Julia-1.4.2\\share\\julia\\stdlib\\v1.4\\LinearAlgebra\\src\\generic.jl:1588      \n",
    " [11] isapprox at C:\\Users\\julia\\AppData\\Local\\Julia-1.4.2\\share\\julia\\stdlib\\v1.4\\LinearAlgebra\\src\\generic.jl:1588 [inlined]\n",
    " [12] assembleλmatrix(::Array{Int64,1}, ::Array{Int64,1}, ::Array{Int64,2}, ::Array{Int64,1}, ::Array{SuiteSparse.CHOLMOD.Factor{Float64},1}, ::Array{Float64,1}, ::SparseMatrixCSC{Float64,Int64}) at C:\\Users\\cheny\\OneDrive\\Documents\\version-control\\SBP_Seismology\\decomposite\\global_curved.jl:871\n",
    " [13] top-level scope at C:\\Users\\cheny\\OneDrive\\Documents\\version-control\\SBP_Seismology\\decomposite\\test_multithreading.jl:262\n",
    " [14] include(::String) at .\\client.jl:439\n",
    " [15] top-level scope at none:0\n",
    "in expression starting at C:\\Users\\cheny\\OneDrive\\Documents\\version-control\\SBP_Seismology\\decomposite\\test_multithreading.jl:6\n",
    "```"
   ]
  },
  {
   "cell_type": "code",
   "execution_count": 1,
   "metadata": {},
   "outputs": [
    {
     "data": {
      "text/plain": [
       "SBPLocalOperator1_factorization (generic function with 1 method)"
      ]
     },
     "execution_count": 1,
     "metadata": {},
     "output_type": "execute_result"
    }
   ],
   "source": [
    "function SBPLocalOperator1_factorization(lop,Nr,Ns,factorization)    # This is the new function that only contains operators solving part\n",
    "    nelems = length(lop)\n",
    "    FTYPE = typeof(factorization(sparse([1],[1],[1.0])))\n",
    "    factors = Array{FTYPE, 1}(undef, nelems)\n",
    "    for e in 1:nelems\n",
    "        factors[e] = factorization(lop[e].M̃)\n",
    "    end\n",
    "    (factors)\n",
    "end"
   ]
  },
  {
   "cell_type": "markdown",
   "metadata": {},
   "source": [
    "## Incompatibilty with LU factorizations from line 843 in assembleλmatrix\n",
    "```\n",
    " for e = 1:nelems\n",
    "    # println((e, nelems))\n",
    "    vrng = vstarts[e]:(vstarts[e+1]-1)\n",
    "    for lf = 1:4\n",
    "      f = EToF[lf,e]\n",
    "      if FToB[f] == BC_LOCKED_INTERFACE || FToB[f] >= BC_JUMP_INTERFACE\n",
    "        λrng = FToλstarts[f]:(FToλstarts[f+1]-1)\n",
    "        # B = -(Matrix(F[e]' \\ Fbar[vrng, λrng])) # This is where backslash happens\n",
    "        B = -(F[e]' \\ Fbar[vrng,λrng])\n",
    " ```"
   ]
  },
  {
   "cell_type": "code",
   "execution_count": 2,
   "metadata": {},
   "outputs": [
    {
     "data": {
      "text/plain": [
       "#5 (generic function with 1 method)"
      ]
     },
     "execution_count": 2,
     "metadata": {},
     "output_type": "execute_result"
    }
   ],
   "source": [
    "lu_fac = (x) -> lu(x)"
   ]
  },
  {
   "cell_type": "code",
   "execution_count": 3,
   "metadata": {},
   "outputs": [
    {
     "data": {
      "text/plain": [
       "#7 (generic function with 1 method)"
      ]
     },
     "execution_count": 3,
     "metadata": {},
     "output_type": "execute_result"
    }
   ],
   "source": [
    "chol_fac = (x) -> cholesky(Symmetric(x))"
   ]
  },
  {
   "cell_type": "code",
   "execution_count": 5,
   "metadata": {},
   "outputs": [
    {
     "data": {
      "text/plain": [
       "3×3 SparseMatrixCSC{Float64,Int64} with 9 stored entries:\n",
       "  [1, 1]  =  0.542541\n",
       "  [2, 1]  =  0.814941\n",
       "  [3, 1]  =  0.821039\n",
       "  [1, 2]  =  0.468169\n",
       "  [2, 2]  =  0.898763\n",
       "  [3, 2]  =  0.169251\n",
       "  [1, 3]  =  0.978025\n",
       "  [2, 3]  =  0.408296\n",
       "  [3, 3]  =  0.506394"
      ]
     },
     "execution_count": 5,
     "metadata": {},
     "output_type": "execute_result"
    }
   ],
   "source": [
    "using SparseArrays\n",
    "using LinearAlgebra\n",
    "A = rand(3,3)\n",
    "A_sparse = sparse(A)"
   ]
  },
  {
   "cell_type": "code",
   "execution_count": 6,
   "metadata": {},
   "outputs": [
    {
     "data": {
      "text/plain": [
       "LU{Float64,Array{Float64,2}}\n",
       "L factor:\n",
       "3×3 Array{Float64,2}:\n",
       " 1.0       0.0       0.0\n",
       " 0.992573  1.0       0.0\n",
       " 0.660798  0.487607  1.0\n",
       "U factor:\n",
       "3×3 Array{Float64,2}:\n",
       " 0.821039  0.169251   0.506394\n",
       " 0.0       0.730769  -0.0943378\n",
       " 0.0       0.0        0.6894"
      ]
     },
     "execution_count": 6,
     "metadata": {},
     "output_type": "execute_result"
    }
   ],
   "source": [
    "lu_fac(A)"
   ]
  },
  {
   "cell_type": "code",
   "execution_count": 7,
   "metadata": {},
   "outputs": [
    {
     "ename": "PosDefException",
     "evalue": "PosDefException: matrix is not positive definite; Cholesky factorization failed.",
     "output_type": "error",
     "traceback": [
      "PosDefException: matrix is not positive definite; Cholesky factorization failed.",
      "",
      "Stacktrace:",
      " [1] checkpositivedefinite at C:\\Users\\julia\\AppData\\Local\\Julia-1.4.2\\share\\julia\\stdlib\\v1.4\\LinearAlgebra\\src\\factorization.jl:18 [inlined]",
      " [2] cholesky!(::Symmetric{Float64,Array{Float64,2}}, ::Val{false}; check::Bool) at C:\\Users\\julia\\AppData\\Local\\Julia-1.4.2\\share\\julia\\stdlib\\v1.4\\LinearAlgebra\\src\\cholesky.jl:226",
      " [3] #cholesky#136 at C:\\Users\\julia\\AppData\\Local\\Julia-1.4.2\\share\\julia\\stdlib\\v1.4\\LinearAlgebra\\src\\cholesky.jl:348 [inlined]",
      " [4] cholesky at C:\\Users\\julia\\AppData\\Local\\Julia-1.4.2\\share\\julia\\stdlib\\v1.4\\LinearAlgebra\\src\\cholesky.jl:348 [inlined] (repeats 2 times)",
      " [5] (::var\"#7#8\")(::Array{Float64,2}) at .\\In[3]:1",
      " [6] top-level scope at In[7]:1"
     ]
    }
   ],
   "source": [
    "chol_fac(A)"
   ]
  },
  {
   "cell_type": "code",
   "execution_count": 8,
   "metadata": {},
   "outputs": [
    {
     "data": {
      "text/plain": [
       "Cholesky{Float64,Array{Float64,2}}\n",
       "U factor:\n",
       "3×3 UpperTriangular{Float64,Array{Float64,2}}:\n",
       " 1.59453  0.293609  0.613361\n",
       "  ⋅       1.67707   0.136075\n",
       "  ⋅        ⋅        1.45316"
      ]
     },
     "execution_count": 8,
     "metadata": {},
     "output_type": "execute_result"
    }
   ],
   "source": [
    "chol_fac(A+2I)"
   ]
  },
  {
   "cell_type": "code",
   "execution_count": 28,
   "metadata": {},
   "outputs": [
    {
     "data": {
      "text/plain": [
       "SuiteSparse.UMFPACK.UmfpackLU{Float64,Int64}\n",
       "L factor:\n",
       "3×3 SparseMatrixCSC{Float64,Int64} with 6 stored entries:\n",
       "  [1, 1]  =  1.0\n",
       "  [2, 1]  =  1.40775\n",
       "  [3, 1]  =  2.01084\n",
       "  [2, 2]  =  1.0\n",
       "  [3, 2]  =  -3.90996\n",
       "  [3, 3]  =  1.0\n",
       "U factor:\n",
       "3×3 SparseMatrixCSC{Float64,Int64} with 6 stored entries:\n",
       "  [1, 1]  =  0.272807\n",
       "  [1, 2]  =  0.23541\n",
       "  [2, 2]  =  0.0921466\n",
       "  [1, 3]  =  0.491782\n",
       "  [2, 3]  =  -0.499895\n",
       "  [3, 3]  =  -2.60512"
      ]
     },
     "execution_count": 28,
     "metadata": {},
     "output_type": "execute_result"
    }
   ],
   "source": [
    "lu_fac(A_sparse)"
   ]
  },
  {
   "cell_type": "code",
   "execution_count": 30,
   "metadata": {},
   "outputs": [
    {
     "data": {
      "text/plain": [
       "SuiteSparse.CHOLMOD.Factor{Float64}\n",
       "type:    LLt\n",
       "method:  simplicial\n",
       "maxnnz:  6\n",
       "nnz:     6\n",
       "success: true\n"
      ]
     },
     "execution_count": 30,
     "metadata": {},
     "output_type": "execute_result"
    }
   ],
   "source": [
    "chol_fac(A_sparse + 2I)"
   ]
  },
  {
   "cell_type": "code",
   "execution_count": 11,
   "metadata": {},
   "outputs": [
    {
     "data": {
      "text/plain": [
       "SuiteSparse.CHOLMOD.Factor{Float64}"
      ]
     },
     "execution_count": 11,
     "metadata": {},
     "output_type": "execute_result"
    }
   ],
   "source": [
    "FTYPE_chol = typeof((chol_fac(sparse([1],[1],[1.0]))))"
   ]
  },
  {
   "cell_type": "code",
   "execution_count": 12,
   "metadata": {},
   "outputs": [
    {
     "data": {
      "text/plain": [
       "SuiteSparse.UMFPACK.UmfpackLU{Float64,Int64}"
      ]
     },
     "execution_count": 12,
     "metadata": {},
     "output_type": "execute_result"
    }
   ],
   "source": [
    "FTYPE_lu = typeof((lu_fac(sparse([1],[1],[1.0]))))"
   ]
  },
  {
   "cell_type": "code",
   "execution_count": 14,
   "metadata": {},
   "outputs": [
    {
     "data": {
      "text/plain": [
       "2-element Array{SuiteSparse.CHOLMOD.Factor{Float64},1}:\n",
       " #undef\n",
       " #undef"
      ]
     },
     "execution_count": 14,
     "metadata": {},
     "output_type": "execute_result"
    }
   ],
   "source": [
    "factors_chol = Array{FTYPE_chol,1}(undef,2)"
   ]
  },
  {
   "cell_type": "code",
   "execution_count": 15,
   "metadata": {},
   "outputs": [
    {
     "data": {
      "text/plain": [
       "2-element Array{SuiteSparse.UMFPACK.UmfpackLU{Float64,Int64},1}:\n",
       " #undef\n",
       " #undef"
      ]
     },
     "execution_count": 15,
     "metadata": {},
     "output_type": "execute_result"
    }
   ],
   "source": [
    "factors_lu = Array{FTYPE_lu,1}(undef,2)"
   ]
  },
  {
   "cell_type": "code",
   "execution_count": 21,
   "metadata": {},
   "outputs": [
    {
     "data": {
      "text/plain": [
       "SuiteSparse.CHOLMOD.Factor{Float64}\n",
       "type:    LLt\n",
       "method:  simplicial\n",
       "maxnnz:  6\n",
       "nnz:     6\n",
       "success: true\n"
      ]
     },
     "execution_count": 21,
     "metadata": {},
     "output_type": "execute_result"
    }
   ],
   "source": [
    "factors_chol[1] = cholesky(Symmetric(A_sparse+2I))"
   ]
  },
  {
   "cell_type": "code",
   "execution_count": 22,
   "metadata": {},
   "outputs": [
    {
     "data": {
      "text/plain": [
       "SuiteSparse.CHOLMOD.Factor{Float64}\n",
       "type:    LLt\n",
       "method:  simplicial\n",
       "maxnnz:  6\n",
       "nnz:     6\n",
       "success: true\n"
      ]
     },
     "execution_count": 22,
     "metadata": {},
     "output_type": "execute_result"
    }
   ],
   "source": [
    "factors_chol[1] = chol_fac(A_sparse+2I)"
   ]
  },
  {
   "cell_type": "code",
   "execution_count": 23,
   "metadata": {},
   "outputs": [
    {
     "data": {
      "text/plain": [
       "SuiteSparse.UMFPACK.UmfpackLU{Float64,Int64}\n",
       "L factor:\n",
       "3×3 SparseMatrixCSC{Float64,Int64} with 6 stored entries:\n",
       "  [1, 1]  =  1.0\n",
       "  [2, 1]  =  1.40775\n",
       "  [3, 1]  =  2.01084\n",
       "  [2, 2]  =  1.0\n",
       "  [3, 2]  =  -3.90996\n",
       "  [3, 3]  =  1.0\n",
       "U factor:\n",
       "3×3 SparseMatrixCSC{Float64,Int64} with 6 stored entries:\n",
       "  [1, 1]  =  0.272807\n",
       "  [1, 2]  =  0.23541\n",
       "  [2, 2]  =  0.0921466\n",
       "  [1, 3]  =  0.491782\n",
       "  [2, 3]  =  -0.499895\n",
       "  [3, 3]  =  -2.60512"
      ]
     },
     "execution_count": 23,
     "metadata": {},
     "output_type": "execute_result"
    }
   ],
   "source": [
    "factors_lu[1] = lu(A_sparse)"
   ]
  },
  {
   "cell_type": "markdown",
   "metadata": {},
   "source": [
    "factors_lu[2] = lu_fac(A_sparse)"
   ]
  },
  {
   "cell_type": "code",
   "execution_count": 31,
   "metadata": {},
   "outputs": [
    {
     "data": {
      "text/plain": [
       "3×2 SparseMatrixCSC{Float64,Int64} with 6 stored entries:\n",
       "  [1, 1]  =  0.310122\n",
       "  [2, 1]  =  0.115528\n",
       "  [3, 1]  =  0.708056\n",
       "  [1, 2]  =  0.0899221\n",
       "  [2, 2]  =  0.735535\n",
       "  [3, 2]  =  0.399863"
      ]
     },
     "execution_count": 31,
     "metadata": {},
     "output_type": "execute_result"
    }
   ],
   "source": [
    "b = sparse(rand(3,2))  # Here we define b to be a sparse matrix instead of vector"
   ]
  },
  {
   "cell_type": "code",
   "execution_count": 26,
   "metadata": {},
   "outputs": [
    {
     "data": {
      "text/plain": [
       "3×2 SparseMatrixCSC{Float64,Int64} with 6 stored entries:\n",
       "  [1, 1]  =  0.0934948\n",
       "  [2, 1]  =  0.248379\n",
       "  [3, 1]  =  0.191347\n",
       "  [1, 2]  =  0.00763141\n",
       "  [2, 2]  =  0.195049\n",
       "  [3, 2]  =  0.313064"
      ]
     },
     "execution_count": 26,
     "metadata": {},
     "output_type": "execute_result"
    }
   ],
   "source": [
    "factors_chol[1] \\ b"
   ]
  },
  {
   "cell_type": "code",
   "execution_count": 27,
   "metadata": {},
   "outputs": [
    {
     "ename": "MethodError",
     "evalue": "MethodError: no method matching ldiv!(::SuiteSparse.UMFPACK.UmfpackLU{Float64,Int64}, ::SparseMatrixCSC{Float64,Int64})\nClosest candidates are:\n  ldiv!(!Matched::Number, ::AbstractArray) at C:\\Users\\julia\\AppData\\Local\\Julia-1.4.2\\share\\julia\\stdlib\\v1.4\\LinearAlgebra\\src\\generic.jl:252\n  ldiv!(!Matched::Diagonal{T,V} where V<:AbstractArray{T,1}, ::SparseArrays.AbstractSparseMatrixCSC{T,Ti} where Ti<:Integer) where T at C:\\Users\\julia\\AppData\\Local\\Julia-1.4.2\\share\\julia\\stdlib\\v1.4\\SparseArrays\\src\\linalg.jl:836\n  ldiv!(!Matched::Diagonal{T,V} where V<:AbstractArray{T,1}, ::AbstractArray{T,2}) where T at C:\\Users\\julia\\AppData\\Local\\Julia-1.4.2\\share\\julia\\stdlib\\v1.4\\LinearAlgebra\\src\\diagonal.jl:415\n  ...",
     "output_type": "error",
     "traceback": [
      "MethodError: no method matching ldiv!(::SuiteSparse.UMFPACK.UmfpackLU{Float64,Int64}, ::SparseMatrixCSC{Float64,Int64})\nClosest candidates are:\n  ldiv!(!Matched::Number, ::AbstractArray) at C:\\Users\\julia\\AppData\\Local\\Julia-1.4.2\\share\\julia\\stdlib\\v1.4\\LinearAlgebra\\src\\generic.jl:252\n  ldiv!(!Matched::Diagonal{T,V} where V<:AbstractArray{T,1}, ::SparseArrays.AbstractSparseMatrixCSC{T,Ti} where Ti<:Integer) where T at C:\\Users\\julia\\AppData\\Local\\Julia-1.4.2\\share\\julia\\stdlib\\v1.4\\SparseArrays\\src\\linalg.jl:836\n  ldiv!(!Matched::Diagonal{T,V} where V<:AbstractArray{T,1}, ::AbstractArray{T,2}) where T at C:\\Users\\julia\\AppData\\Local\\Julia-1.4.2\\share\\julia\\stdlib\\v1.4\\LinearAlgebra\\src\\diagonal.jl:415\n  ...",
      "",
      "Stacktrace:",
      " [1] \\(::SuiteSparse.UMFPACK.UmfpackLU{Float64,Int64}, ::SparseMatrixCSC{Float64,Int64}) at C:\\Users\\julia\\AppData\\Local\\Julia-1.4.2\\share\\julia\\stdlib\\v1.4\\LinearAlgebra\\src\\factorization.jl:101",
      " [2] top-level scope at In[27]:1"
     ]
    }
   ],
   "source": [
    "factors_lu[1] \\ b"
   ]
  },
  {
   "cell_type": "markdown",
   "metadata": {},
   "source": [
    "# Tables for Brittany\n",
    "\n",
    "Table 1 is not completed yet, I still need to do some rework on Jeremy's code <br>\n",
    "Overleaf link https://www.overleaf.com/4588648356xcctvxzmtdnp"
   ]
  },
  {
   "cell_type": "code",
   "execution_count": null,
   "metadata": {},
   "outputs": [],
   "source": []
  }
 ],
 "metadata": {
  "kernelspec": {
   "display_name": "JuliaPro_v1.4.2-1 1.4.2",
   "language": "julia",
   "name": "juliapro_v1.4.2-1-1.4"
  },
  "language_info": {
   "file_extension": ".jl",
   "mimetype": "application/julia",
   "name": "julia",
   "version": "1.4.2"
  }
 },
 "nbformat": 4,
 "nbformat_minor": 4
}
