{
 "metadata": {
  "language_info": {
   "codemirror_mode": {
    "name": "ipython",
    "version": 3
   },
   "file_extension": ".py",
   "mimetype": "text/x-python",
   "name": "python",
   "nbconvert_exporter": "python",
   "pygments_lexer": "ipython3",
   "version": "3.8.3-final"
  },
  "orig_nbformat": 2,
  "kernelspec": {
   "name": "julia-1.5",
   "display_name": "Julia 1.5.0"
  }
 },
 "nbformat": 4,
 "nbformat_minor": 2,
 "cells": [
  {
   "source": [
    "# Metting October 9th\n",
    "\n"
   ],
   "cell_type": "markdown",
   "metadata": {}
  },
  {
   "source": [
    "\n",
    "## Performance of Naive vs Shared-memory operators on V100\n",
    "\n",
    "Test function: D2x\n",
    "\n",
    "\n",
    "Peak Performance of Naive Operators: <br>\n",
    "398 Gb/s, 1D block dim: 128\n",
    "\n",
    "\n",
    "\n",
    "Peak Performance for Shared-memory Operators: <br>\n",
    "430 GB/s, 2D pencil shape: 16 x 16\n",
    "\n",
    "\n",
    "Conclusion: Our shared-memory GPU operators could still outperform naive operators by roughly nearly 10% consistently\n"
   ],
   "cell_type": "markdown",
   "metadata": {}
  },
  {
   "cell_type": "code",
   "execution_count": null,
   "metadata": {},
   "outputs": [],
   "source": []
  }
 ]
}